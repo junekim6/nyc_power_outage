{
 "cells": [
  {
   "cell_type": "code",
   "execution_count": 1,
   "id": "38cce296",
   "metadata": {},
   "outputs": [],
   "source": [
    "# Data is from https://empowerprogram.hhs.gov/about-empowermap.html"
   ]
  },
  {
   "cell_type": "code",
   "execution_count": 2,
   "id": "67b64aa4",
   "metadata": {},
   "outputs": [],
   "source": [
    "import pandas as pd"
   ]
  },
  {
   "cell_type": "code",
   "execution_count": 3,
   "id": "3ccdc770",
   "metadata": {},
   "outputs": [],
   "source": [
    "# Import excel files of empower DME users\n",
    "\n",
    "years = [2016, 2017, 2018, 2019, 2020, 2021]\n",
    "\n",
    "dataframes = [pd.ExcelFile(str(year)+\"_HHSemPOWERMapHistoricalDataset.xlsx\").parse(\"Zip Code\") for year in years]"
   ]
  },
  {
   "cell_type": "code",
   "execution_count": 4,
   "id": "ccf263c1",
   "metadata": {},
   "outputs": [],
   "source": [
    "# import nyc zip codes and population\n",
    "\n",
    "nyc_zip = pd.read_csv('/Users/minjukim/Documents/codes/Reporting2/df_nyc_zip.csv')"
   ]
  },
  {
   "cell_type": "code",
   "execution_count": 5,
   "id": "f7089db5",
   "metadata": {},
   "outputs": [],
   "source": [
    "nyc_dfs = [dataframe.merge(nyc_zip, how=\"right\", left_on='Zip_Code', right_on = 'Zipcode') for dataframe in dataframes]\n"
   ]
  },
  {
   "cell_type": "code",
   "execution_count": 6,
   "id": "c1d3594a",
   "metadata": {},
   "outputs": [],
   "source": [
    "for i, df in enumerate(nyc_dfs):\n",
    "    nyc_dfs[i] = df.drop([\"Zipcode\", \"Unnamed: 0\"], axis=1)\n",
    "    for month in range(1, 13):\n",
    "        nyc_dfs[i][month] = df[df.columns[month*2+5]]/df[df.columns[month*2+4]]*100"
   ]
  },
  {
   "cell_type": "code",
   "execution_count": 7,
   "id": "d8f24487",
   "metadata": {},
   "outputs": [],
   "source": [
    "years=[]\n",
    "for i, df in enumerate(nyc_dfs):\n",
    "    dme_pop = {}\n",
    "    for month in range(1, 13):\n",
    "        dme_pop[month] = nyc_dfs[i][month].mean()\n",
    "    years.append(dme_pop)"
   ]
  },
  {
   "cell_type": "code",
   "execution_count": 8,
   "id": "c6a09255",
   "metadata": {},
   "outputs": [],
   "source": [
    "monthly_df = pd.DataFrame(years).transpose()\n",
    "monthly_df.columns = monthly_df.columns+2016\n",
    "monthly_df.reset_index(inplace=True, names=\"month\")"
   ]
  },
  {
   "cell_type": "code",
   "execution_count": 9,
   "id": "7c8d1d78",
   "metadata": {},
   "outputs": [],
   "source": [
    "monthly_df.month = monthly_df.month.astype(str).str.zfill(2)"
   ]
  },
  {
   "cell_type": "code",
   "execution_count": 10,
   "id": "cb040c97",
   "metadata": {},
   "outputs": [],
   "source": [
    "melted_monthly = pd.melt(monthly_df, id_vars='month', var_name=\"year\", value_name='pct_DME_users')"
   ]
  },
  {
   "cell_type": "code",
   "execution_count": 11,
   "id": "a2d76964",
   "metadata": {},
   "outputs": [],
   "source": [
    "melted_monthly['date'] = melted_monthly.year.astype(str) + \"-\" + melted_monthly.month.astype(str)"
   ]
  },
  {
   "cell_type": "code",
   "execution_count": 12,
   "id": "8b767e05",
   "metadata": {
    "scrolled": true
   },
   "outputs": [],
   "source": [
    "melted_monthly.date = pd.to_datetime(melted_monthly.date, format=\"%Y-%m\")"
   ]
  },
  {
   "cell_type": "code",
   "execution_count": 13,
   "id": "3bb9a46e",
   "metadata": {},
   "outputs": [],
   "source": [
    "# Get zip code data on most recent data available.\n",
    "df_2022 = pd.ExcelFile(\"2022_HHSemPOWERMapHistoricalDataset.xlsx\").parse(\"Zip Code\")"
   ]
  },
  {
   "cell_type": "code",
   "execution_count": 14,
   "id": "289bf63d",
   "metadata": {},
   "outputs": [],
   "source": [
    "df_2022['August'] = df_2022['Aug_2022_Power_Dependent_Devices_DME']/df_2022[\"Aug_2022_Medicare_Benes\"]*100"
   ]
  },
  {
   "cell_type": "code",
   "execution_count": 15,
   "id": "3fe7acd8",
   "metadata": {},
   "outputs": [],
   "source": [
    "df_2022 = df_2022.merge(nyc_zip, how=\"inner\", left_on='Zip_Code', right_on = 'Zipcode')"
   ]
  },
  {
   "cell_type": "code",
   "execution_count": 16,
   "id": "f7364b64",
   "metadata": {},
   "outputs": [],
   "source": [
    "df_2022 = df_2022[df_2022.County!=\"Nassau \"]"
   ]
  },
  {
   "cell_type": "markdown",
   "id": "876a95ce",
   "metadata": {},
   "source": [
    "## Comparing oldest and newest datapoint."
   ]
  },
  {
   "cell_type": "code",
   "execution_count": 17,
   "id": "204e4c46",
   "metadata": {
    "scrolled": false
   },
   "outputs": [
    {
     "data": {
      "text/plain": [
       "1094567.0"
      ]
     },
     "execution_count": 17,
     "metadata": {},
     "output_type": "execute_result"
    }
   ],
   "source": [
    "nyc_dfs[0][\"Jan_2016_Medicare_Benes\"].sum()"
   ]
  },
  {
   "cell_type": "code",
   "execution_count": 18,
   "id": "10ee8622",
   "metadata": {},
   "outputs": [
    {
     "data": {
      "text/plain": [
       "25226.0"
      ]
     },
     "execution_count": 18,
     "metadata": {},
     "output_type": "execute_result"
    }
   ],
   "source": [
    "nyc_dfs[0][\"Jan_2016_Power_Dependent_Devices_DME\"].sum()"
   ]
  },
  {
   "cell_type": "code",
   "execution_count": 19,
   "id": "8732acde",
   "metadata": {
    "scrolled": false
   },
   "outputs": [
    {
     "data": {
      "text/plain": [
       "1338990"
      ]
     },
     "execution_count": 19,
     "metadata": {},
     "output_type": "execute_result"
    }
   ],
   "source": [
    "df_2022[\"Aug_2022_Medicare_Benes\"].sum()\n"
   ]
  },
  {
   "cell_type": "code",
   "execution_count": 20,
   "id": "4140656e",
   "metadata": {},
   "outputs": [
    {
     "data": {
      "text/plain": [
       "35703"
      ]
     },
     "execution_count": 20,
     "metadata": {},
     "output_type": "execute_result"
    }
   ],
   "source": [
    "df_2022[\"Aug_2022_Power_Dependent_Devices_DME\"].sum()"
   ]
  },
  {
   "cell_type": "code",
   "execution_count": 21,
   "id": "2114291e",
   "metadata": {},
   "outputs": [
    {
     "data": {
      "text/plain": [
       "3.7922225819773474"
      ]
     },
     "execution_count": 21,
     "metadata": {},
     "output_type": "execute_result"
    }
   ],
   "source": [
    "df_2022.August.mean()"
   ]
  },
  {
   "cell_type": "code",
   "execution_count": 35,
   "id": "b54ff3fc",
   "metadata": {},
   "outputs": [
    {
     "data": {
      "text/html": [
       "<div>\n",
       "<style scoped>\n",
       "    .dataframe tbody tr th:only-of-type {\n",
       "        vertical-align: middle;\n",
       "    }\n",
       "\n",
       "    .dataframe tbody tr th {\n",
       "        vertical-align: top;\n",
       "    }\n",
       "\n",
       "    .dataframe thead th {\n",
       "        text-align: right;\n",
       "    }\n",
       "</style>\n",
       "<table border=\"1\" class=\"dataframe\">\n",
       "  <thead>\n",
       "    <tr style=\"text-align: right;\">\n",
       "      <th></th>\n",
       "      <th>Zip_Code</th>\n",
       "      <th>FIPS_Code</th>\n",
       "      <th>County_FIPS_Code</th>\n",
       "      <th>County</th>\n",
       "      <th>State_FIPS_Code</th>\n",
       "      <th>State</th>\n",
       "      <th>Jan_2022_Medicare_Benes</th>\n",
       "      <th>Jan_2022_Power_Dependent_Devices_DME</th>\n",
       "      <th>Feb_2022_Medicare_Benes</th>\n",
       "      <th>Feb_2022_Power_Dependent_Devices_DME</th>\n",
       "      <th>...</th>\n",
       "      <th>Jul_2022_Power_Dependent_Devices_DME</th>\n",
       "      <th>Aug_2022_Medicare_Benes</th>\n",
       "      <th>Aug_2022_Power_Dependent_Devices_DME</th>\n",
       "      <th>August</th>\n",
       "      <th>Unnamed: 0</th>\n",
       "      <th>Zipcode</th>\n",
       "      <th>Estimate</th>\n",
       "      <th>Margin of Error</th>\n",
       "      <th>Lower Estimate</th>\n",
       "      <th>Upper Estimate</th>\n",
       "    </tr>\n",
       "  </thead>\n",
       "  <tbody>\n",
       "    <tr>\n",
       "      <th>0</th>\n",
       "      <td>10001</td>\n",
       "      <td>36061</td>\n",
       "      <td>61</td>\n",
       "      <td>New York</td>\n",
       "      <td>36</td>\n",
       "      <td>NY</td>\n",
       "      <td>4736</td>\n",
       "      <td>114</td>\n",
       "      <td>4720</td>\n",
       "      <td>107</td>\n",
       "      <td>...</td>\n",
       "      <td>117</td>\n",
       "      <td>4677</td>\n",
       "      <td>119</td>\n",
       "      <td>2.544366</td>\n",
       "      <td>0</td>\n",
       "      <td>10001</td>\n",
       "      <td>25026</td>\n",
       "      <td>1759</td>\n",
       "      <td>23267</td>\n",
       "      <td>26785</td>\n",
       "    </tr>\n",
       "    <tr>\n",
       "      <th>1</th>\n",
       "      <td>10002</td>\n",
       "      <td>36061</td>\n",
       "      <td>61</td>\n",
       "      <td>New York</td>\n",
       "      <td>36</td>\n",
       "      <td>NY</td>\n",
       "      <td>18738</td>\n",
       "      <td>460</td>\n",
       "      <td>18731</td>\n",
       "      <td>445</td>\n",
       "      <td>...</td>\n",
       "      <td>472</td>\n",
       "      <td>18867</td>\n",
       "      <td>488</td>\n",
       "      <td>2.586527</td>\n",
       "      <td>1</td>\n",
       "      <td>10002</td>\n",
       "      <td>74363</td>\n",
       "      <td>3183</td>\n",
       "      <td>71180</td>\n",
       "      <td>77546</td>\n",
       "    </tr>\n",
       "    <tr>\n",
       "      <th>2</th>\n",
       "      <td>10003</td>\n",
       "      <td>36061</td>\n",
       "      <td>61</td>\n",
       "      <td>New York</td>\n",
       "      <td>36</td>\n",
       "      <td>NY</td>\n",
       "      <td>8932</td>\n",
       "      <td>237</td>\n",
       "      <td>8913</td>\n",
       "      <td>235</td>\n",
       "      <td>...</td>\n",
       "      <td>243</td>\n",
       "      <td>8878</td>\n",
       "      <td>239</td>\n",
       "      <td>2.692048</td>\n",
       "      <td>2</td>\n",
       "      <td>10003</td>\n",
       "      <td>54671</td>\n",
       "      <td>2568</td>\n",
       "      <td>52103</td>\n",
       "      <td>57239</td>\n",
       "    </tr>\n",
       "    <tr>\n",
       "      <th>3</th>\n",
       "      <td>10004</td>\n",
       "      <td>36061</td>\n",
       "      <td>61</td>\n",
       "      <td>New York</td>\n",
       "      <td>36</td>\n",
       "      <td>NY</td>\n",
       "      <td>811</td>\n",
       "      <td>16</td>\n",
       "      <td>807</td>\n",
       "      <td>17</td>\n",
       "      <td>...</td>\n",
       "      <td>19</td>\n",
       "      <td>810</td>\n",
       "      <td>17</td>\n",
       "      <td>2.098765</td>\n",
       "      <td>3</td>\n",
       "      <td>10004</td>\n",
       "      <td>3310</td>\n",
       "      <td>658</td>\n",
       "      <td>2652</td>\n",
       "      <td>3968</td>\n",
       "    </tr>\n",
       "    <tr>\n",
       "      <th>4</th>\n",
       "      <td>10005</td>\n",
       "      <td>36061</td>\n",
       "      <td>61</td>\n",
       "      <td>New York</td>\n",
       "      <td>36</td>\n",
       "      <td>NY</td>\n",
       "      <td>325</td>\n",
       "      <td>11</td>\n",
       "      <td>328</td>\n",
       "      <td>11</td>\n",
       "      <td>...</td>\n",
       "      <td>11</td>\n",
       "      <td>339</td>\n",
       "      <td>11</td>\n",
       "      <td>3.244838</td>\n",
       "      <td>4</td>\n",
       "      <td>10005</td>\n",
       "      <td>8664</td>\n",
       "      <td>906</td>\n",
       "      <td>7758</td>\n",
       "      <td>9570</td>\n",
       "    </tr>\n",
       "    <tr>\n",
       "      <th>...</th>\n",
       "      <td>...</td>\n",
       "      <td>...</td>\n",
       "      <td>...</td>\n",
       "      <td>...</td>\n",
       "      <td>...</td>\n",
       "      <td>...</td>\n",
       "      <td>...</td>\n",
       "      <td>...</td>\n",
       "      <td>...</td>\n",
       "      <td>...</td>\n",
       "      <td>...</td>\n",
       "      <td>...</td>\n",
       "      <td>...</td>\n",
       "      <td>...</td>\n",
       "      <td>...</td>\n",
       "      <td>...</td>\n",
       "      <td>...</td>\n",
       "      <td>...</td>\n",
       "      <td>...</td>\n",
       "      <td>...</td>\n",
       "      <td>...</td>\n",
       "    </tr>\n",
       "    <tr>\n",
       "      <th>186</th>\n",
       "      <td>11691</td>\n",
       "      <td>36081</td>\n",
       "      <td>81</td>\n",
       "      <td>Queens</td>\n",
       "      <td>36</td>\n",
       "      <td>NY</td>\n",
       "      <td>9788</td>\n",
       "      <td>323</td>\n",
       "      <td>9741</td>\n",
       "      <td>324</td>\n",
       "      <td>...</td>\n",
       "      <td>334</td>\n",
       "      <td>9899</td>\n",
       "      <td>331</td>\n",
       "      <td>3.343772</td>\n",
       "      <td>209</td>\n",
       "      <td>11691</td>\n",
       "      <td>68454</td>\n",
       "      <td>3192</td>\n",
       "      <td>65262</td>\n",
       "      <td>71646</td>\n",
       "    </tr>\n",
       "    <tr>\n",
       "      <th>187</th>\n",
       "      <td>11692</td>\n",
       "      <td>36081</td>\n",
       "      <td>81</td>\n",
       "      <td>Queens</td>\n",
       "      <td>36</td>\n",
       "      <td>NY</td>\n",
       "      <td>2971</td>\n",
       "      <td>69</td>\n",
       "      <td>2972</td>\n",
       "      <td>68</td>\n",
       "      <td>...</td>\n",
       "      <td>92</td>\n",
       "      <td>3006</td>\n",
       "      <td>98</td>\n",
       "      <td>3.260146</td>\n",
       "      <td>210</td>\n",
       "      <td>11692</td>\n",
       "      <td>22394</td>\n",
       "      <td>1856</td>\n",
       "      <td>20538</td>\n",
       "      <td>24250</td>\n",
       "    </tr>\n",
       "    <tr>\n",
       "      <th>188</th>\n",
       "      <td>11693</td>\n",
       "      <td>36081</td>\n",
       "      <td>81</td>\n",
       "      <td>Queens</td>\n",
       "      <td>36</td>\n",
       "      <td>NY</td>\n",
       "      <td>2427</td>\n",
       "      <td>71</td>\n",
       "      <td>2430</td>\n",
       "      <td>70</td>\n",
       "      <td>...</td>\n",
       "      <td>71</td>\n",
       "      <td>2453</td>\n",
       "      <td>71</td>\n",
       "      <td>2.894415</td>\n",
       "      <td>211</td>\n",
       "      <td>11693</td>\n",
       "      <td>13029</td>\n",
       "      <td>1251</td>\n",
       "      <td>11778</td>\n",
       "      <td>14280</td>\n",
       "    </tr>\n",
       "    <tr>\n",
       "      <th>189</th>\n",
       "      <td>11694</td>\n",
       "      <td>36081</td>\n",
       "      <td>81</td>\n",
       "      <td>Queens</td>\n",
       "      <td>36</td>\n",
       "      <td>NY</td>\n",
       "      <td>4478</td>\n",
       "      <td>102</td>\n",
       "      <td>4468</td>\n",
       "      <td>105</td>\n",
       "      <td>...</td>\n",
       "      <td>103</td>\n",
       "      <td>4519</td>\n",
       "      <td>109</td>\n",
       "      <td>2.412038</td>\n",
       "      <td>212</td>\n",
       "      <td>11694</td>\n",
       "      <td>21258</td>\n",
       "      <td>1683</td>\n",
       "      <td>19575</td>\n",
       "      <td>22941</td>\n",
       "    </tr>\n",
       "    <tr>\n",
       "      <th>190</th>\n",
       "      <td>11697</td>\n",
       "      <td>36081</td>\n",
       "      <td>81</td>\n",
       "      <td>Queens</td>\n",
       "      <td>36</td>\n",
       "      <td>NY</td>\n",
       "      <td>1346</td>\n",
       "      <td>33</td>\n",
       "      <td>1344</td>\n",
       "      <td>33</td>\n",
       "      <td>...</td>\n",
       "      <td>43</td>\n",
       "      <td>1380</td>\n",
       "      <td>47</td>\n",
       "      <td>3.405797</td>\n",
       "      <td>213</td>\n",
       "      <td>11697</td>\n",
       "      <td>3527</td>\n",
       "      <td>819</td>\n",
       "      <td>2708</td>\n",
       "      <td>4346</td>\n",
       "    </tr>\n",
       "  </tbody>\n",
       "</table>\n",
       "<p>188 rows × 29 columns</p>\n",
       "</div>"
      ],
      "text/plain": [
       "     Zip_Code  FIPS_Code  County_FIPS_Code     County  State_FIPS_Code State  \\\n",
       "0       10001      36061                61  New York                36   NY    \n",
       "1       10002      36061                61  New York                36   NY    \n",
       "2       10003      36061                61  New York                36   NY    \n",
       "3       10004      36061                61  New York                36   NY    \n",
       "4       10005      36061                61  New York                36   NY    \n",
       "..        ...        ...               ...        ...              ...   ...   \n",
       "186     11691      36081                81    Queens                36   NY    \n",
       "187     11692      36081                81    Queens                36   NY    \n",
       "188     11693      36081                81    Queens                36   NY    \n",
       "189     11694      36081                81    Queens                36   NY    \n",
       "190     11697      36081                81    Queens                36   NY    \n",
       "\n",
       "     Jan_2022_Medicare_Benes  Jan_2022_Power_Dependent_Devices_DME  \\\n",
       "0                       4736                                   114   \n",
       "1                      18738                                   460   \n",
       "2                       8932                                   237   \n",
       "3                        811                                    16   \n",
       "4                        325                                    11   \n",
       "..                       ...                                   ...   \n",
       "186                     9788                                   323   \n",
       "187                     2971                                    69   \n",
       "188                     2427                                    71   \n",
       "189                     4478                                   102   \n",
       "190                     1346                                    33   \n",
       "\n",
       "     Feb_2022_Medicare_Benes  Feb_2022_Power_Dependent_Devices_DME  ...  \\\n",
       "0                       4720                                   107  ...   \n",
       "1                      18731                                   445  ...   \n",
       "2                       8913                                   235  ...   \n",
       "3                        807                                    17  ...   \n",
       "4                        328                                    11  ...   \n",
       "..                       ...                                   ...  ...   \n",
       "186                     9741                                   324  ...   \n",
       "187                     2972                                    68  ...   \n",
       "188                     2430                                    70  ...   \n",
       "189                     4468                                   105  ...   \n",
       "190                     1344                                    33  ...   \n",
       "\n",
       "     Jul_2022_Power_Dependent_Devices_DME  Aug_2022_Medicare_Benes  \\\n",
       "0                                     117                     4677   \n",
       "1                                     472                    18867   \n",
       "2                                     243                     8878   \n",
       "3                                      19                      810   \n",
       "4                                      11                      339   \n",
       "..                                    ...                      ...   \n",
       "186                                   334                     9899   \n",
       "187                                    92                     3006   \n",
       "188                                    71                     2453   \n",
       "189                                   103                     4519   \n",
       "190                                    43                     1380   \n",
       "\n",
       "     Aug_2022_Power_Dependent_Devices_DME    August  Unnamed: 0  Zipcode  \\\n",
       "0                                     119  2.544366           0    10001   \n",
       "1                                     488  2.586527           1    10002   \n",
       "2                                     239  2.692048           2    10003   \n",
       "3                                      17  2.098765           3    10004   \n",
       "4                                      11  3.244838           4    10005   \n",
       "..                                    ...       ...         ...      ...   \n",
       "186                                   331  3.343772         209    11691   \n",
       "187                                    98  3.260146         210    11692   \n",
       "188                                    71  2.894415         211    11693   \n",
       "189                                   109  2.412038         212    11694   \n",
       "190                                    47  3.405797         213    11697   \n",
       "\n",
       "     Estimate  Margin of Error  Lower Estimate  Upper Estimate  \n",
       "0       25026             1759           23267           26785  \n",
       "1       74363             3183           71180           77546  \n",
       "2       54671             2568           52103           57239  \n",
       "3        3310              658            2652            3968  \n",
       "4        8664              906            7758            9570  \n",
       "..        ...              ...             ...             ...  \n",
       "186     68454             3192           65262           71646  \n",
       "187     22394             1856           20538           24250  \n",
       "188     13029             1251           11778           14280  \n",
       "189     21258             1683           19575           22941  \n",
       "190      3527              819            2708            4346  \n",
       "\n",
       "[188 rows x 29 columns]"
      ]
     },
     "execution_count": 35,
     "metadata": {},
     "output_type": "execute_result"
    }
   ],
   "source": [
    "df_2022"
   ]
  },
  {
   "cell_type": "markdown",
   "id": "a1b22e57",
   "metadata": {},
   "source": [
    "## Cross referencing DME dependency with household income"
   ]
  },
  {
   "cell_type": "code",
   "execution_count": 22,
   "id": "1ab12bb6",
   "metadata": {},
   "outputs": [],
   "source": [
    "income_df = pd.read_csv(\"acs2020_5yr_B19013_86000US10460/acs2020_5yr_B19013_86000US10460.csv\")"
   ]
  },
  {
   "cell_type": "code",
   "execution_count": 23,
   "id": "dcc1adf2",
   "metadata": {},
   "outputs": [],
   "source": [
    "# Rename and simplify columns\n",
    "\n",
    "income_df = income_df.rename({\"name\": \"Zip_Code\", \"B19013001\": \"median_household_income\"}, axis=\"columns\")"
   ]
  },
  {
   "cell_type": "code",
   "execution_count": 24,
   "id": "251a4603",
   "metadata": {},
   "outputs": [],
   "source": [
    "dme_income_df = pd.merge(df_2022, income_df)"
   ]
  },
  {
   "cell_type": "code",
   "execution_count": 25,
   "id": "661e96e3",
   "metadata": {},
   "outputs": [],
   "source": [
    "# Exclude zip codes where poluation is 0 or close to 0\n",
    "\n",
    "dme_income_df = dme_income_df[(dme_income_df.Estimate!=0) & (dme_income_df.median_household_income.notnull())]"
   ]
  },
  {
   "cell_type": "code",
   "execution_count": 26,
   "id": "b57a2716",
   "metadata": {},
   "outputs": [],
   "source": [
    "# dme_income_df.to_csv('dme_income.csv')"
   ]
  },
  {
   "cell_type": "code",
   "execution_count": 27,
   "id": "0758a3ee",
   "metadata": {
    "scrolled": false
   },
   "outputs": [
    {
     "data": {
      "text/plain": [
       "Text(0, 0.5, 'Pct of electric medical equipment users')"
      ]
     },
     "execution_count": 27,
     "metadata": {},
     "output_type": "execute_result"
    },
    {
     "data": {
      "image/png": "[encoded data removed]",
      "text/plain": [
       "<Figure size 640x480 with 1 Axes>"
      ]
     },
     "metadata": {},
     "output_type": "display_data"
    }
   ],
   "source": [
    "ax = dme_income_df.plot(x=\"median_household_income\", y=\"August\", kind=\"scatter\")\n",
    "ax.set_ylabel(\"Pct of electric medical equipment users\")"
   ]
  },
  {
   "cell_type": "code",
   "execution_count": 28,
   "id": "042999ae",
   "metadata": {},
   "outputs": [
    {
     "data": {
      "text/plain": [
       "<pandas.plotting._core.PlotAccessor object at 0x1249e4f90>"
      ]
     },
     "execution_count": 28,
     "metadata": {},
     "output_type": "execute_result"
    }
   ],
   "source": [
    "dme_income_df.plot"
   ]
  },
  {
   "cell_type": "code",
   "execution_count": 29,
   "id": "8eb2896c",
   "metadata": {},
   "outputs": [
    {
     "data": {
      "text/html": [
       "<div>\n",
       "<style scoped>\n",
       "    .dataframe tbody tr th:only-of-type {\n",
       "        vertical-align: middle;\n",
       "    }\n",
       "\n",
       "    .dataframe tbody tr th {\n",
       "        vertical-align: top;\n",
       "    }\n",
       "\n",
       "    .dataframe thead th {\n",
       "        text-align: right;\n",
       "    }\n",
       "</style>\n",
       "<table border=\"1\" class=\"dataframe\">\n",
       "  <thead>\n",
       "    <tr style=\"text-align: right;\">\n",
       "      <th></th>\n",
       "      <th>Zip_Code</th>\n",
       "      <th>FIPS_Code</th>\n",
       "      <th>County_FIPS_Code</th>\n",
       "      <th>County</th>\n",
       "      <th>State_FIPS_Code</th>\n",
       "      <th>State</th>\n",
       "      <th>Jan_2022_Medicare_Benes</th>\n",
       "      <th>Jan_2022_Power_Dependent_Devices_DME</th>\n",
       "      <th>Feb_2022_Medicare_Benes</th>\n",
       "      <th>Feb_2022_Power_Dependent_Devices_DME</th>\n",
       "      <th>...</th>\n",
       "      <th>August</th>\n",
       "      <th>Unnamed: 0</th>\n",
       "      <th>Zipcode</th>\n",
       "      <th>Estimate</th>\n",
       "      <th>Margin of Error</th>\n",
       "      <th>Lower Estimate</th>\n",
       "      <th>Upper Estimate</th>\n",
       "      <th>geoid</th>\n",
       "      <th>median_household_income</th>\n",
       "      <th>B19013001, Error</th>\n",
       "    </tr>\n",
       "  </thead>\n",
       "  <tbody>\n",
       "    <tr>\n",
       "      <th>0</th>\n",
       "      <td>10001</td>\n",
       "      <td>36061</td>\n",
       "      <td>61</td>\n",
       "      <td>New York</td>\n",
       "      <td>36</td>\n",
       "      <td>NY</td>\n",
       "      <td>4736</td>\n",
       "      <td>114</td>\n",
       "      <td>4720</td>\n",
       "      <td>107</td>\n",
       "      <td>...</td>\n",
       "      <td>2.544366</td>\n",
       "      <td>0</td>\n",
       "      <td>10001</td>\n",
       "      <td>25026</td>\n",
       "      <td>1759</td>\n",
       "      <td>23267</td>\n",
       "      <td>26785</td>\n",
       "      <td>86000US10001</td>\n",
       "      <td>96787.0</td>\n",
       "      <td>9861.0</td>\n",
       "    </tr>\n",
       "    <tr>\n",
       "      <th>1</th>\n",
       "      <td>10002</td>\n",
       "      <td>36061</td>\n",
       "      <td>61</td>\n",
       "      <td>New York</td>\n",
       "      <td>36</td>\n",
       "      <td>NY</td>\n",
       "      <td>18738</td>\n",
       "      <td>460</td>\n",
       "      <td>18731</td>\n",
       "      <td>445</td>\n",
       "      <td>...</td>\n",
       "      <td>2.586527</td>\n",
       "      <td>1</td>\n",
       "      <td>10002</td>\n",
       "      <td>74363</td>\n",
       "      <td>3183</td>\n",
       "      <td>71180</td>\n",
       "      <td>77546</td>\n",
       "      <td>86000US10002</td>\n",
       "      <td>35607.0</td>\n",
       "      <td>2214.0</td>\n",
       "    </tr>\n",
       "    <tr>\n",
       "      <th>2</th>\n",
       "      <td>10003</td>\n",
       "      <td>36061</td>\n",
       "      <td>61</td>\n",
       "      <td>New York</td>\n",
       "      <td>36</td>\n",
       "      <td>NY</td>\n",
       "      <td>8932</td>\n",
       "      <td>237</td>\n",
       "      <td>8913</td>\n",
       "      <td>235</td>\n",
       "      <td>...</td>\n",
       "      <td>2.692048</td>\n",
       "      <td>2</td>\n",
       "      <td>10003</td>\n",
       "      <td>54671</td>\n",
       "      <td>2568</td>\n",
       "      <td>52103</td>\n",
       "      <td>57239</td>\n",
       "      <td>86000US10003</td>\n",
       "      <td>129981.0</td>\n",
       "      <td>8865.0</td>\n",
       "    </tr>\n",
       "    <tr>\n",
       "      <th>3</th>\n",
       "      <td>10004</td>\n",
       "      <td>36061</td>\n",
       "      <td>61</td>\n",
       "      <td>New York</td>\n",
       "      <td>36</td>\n",
       "      <td>NY</td>\n",
       "      <td>811</td>\n",
       "      <td>16</td>\n",
       "      <td>807</td>\n",
       "      <td>17</td>\n",
       "      <td>...</td>\n",
       "      <td>2.098765</td>\n",
       "      <td>3</td>\n",
       "      <td>10004</td>\n",
       "      <td>3310</td>\n",
       "      <td>658</td>\n",
       "      <td>2652</td>\n",
       "      <td>3968</td>\n",
       "      <td>86000US10004</td>\n",
       "      <td>204949.0</td>\n",
       "      <td>12375.0</td>\n",
       "    </tr>\n",
       "    <tr>\n",
       "      <th>4</th>\n",
       "      <td>10005</td>\n",
       "      <td>36061</td>\n",
       "      <td>61</td>\n",
       "      <td>New York</td>\n",
       "      <td>36</td>\n",
       "      <td>NY</td>\n",
       "      <td>325</td>\n",
       "      <td>11</td>\n",
       "      <td>328</td>\n",
       "      <td>11</td>\n",
       "      <td>...</td>\n",
       "      <td>3.244838</td>\n",
       "      <td>4</td>\n",
       "      <td>10005</td>\n",
       "      <td>8664</td>\n",
       "      <td>906</td>\n",
       "      <td>7758</td>\n",
       "      <td>9570</td>\n",
       "      <td>86000US10005</td>\n",
       "      <td>184681.0</td>\n",
       "      <td>14575.0</td>\n",
       "    </tr>\n",
       "    <tr>\n",
       "      <th>...</th>\n",
       "      <td>...</td>\n",
       "      <td>...</td>\n",
       "      <td>...</td>\n",
       "      <td>...</td>\n",
       "      <td>...</td>\n",
       "      <td>...</td>\n",
       "      <td>...</td>\n",
       "      <td>...</td>\n",
       "      <td>...</td>\n",
       "      <td>...</td>\n",
       "      <td>...</td>\n",
       "      <td>...</td>\n",
       "      <td>...</td>\n",
       "      <td>...</td>\n",
       "      <td>...</td>\n",
       "      <td>...</td>\n",
       "      <td>...</td>\n",
       "      <td>...</td>\n",
       "      <td>...</td>\n",
       "      <td>...</td>\n",
       "      <td>...</td>\n",
       "    </tr>\n",
       "    <tr>\n",
       "      <th>183</th>\n",
       "      <td>11691</td>\n",
       "      <td>36081</td>\n",
       "      <td>81</td>\n",
       "      <td>Queens</td>\n",
       "      <td>36</td>\n",
       "      <td>NY</td>\n",
       "      <td>9788</td>\n",
       "      <td>323</td>\n",
       "      <td>9741</td>\n",
       "      <td>324</td>\n",
       "      <td>...</td>\n",
       "      <td>3.343772</td>\n",
       "      <td>209</td>\n",
       "      <td>11691</td>\n",
       "      <td>68454</td>\n",
       "      <td>3192</td>\n",
       "      <td>65262</td>\n",
       "      <td>71646</td>\n",
       "      <td>86000US11691</td>\n",
       "      <td>52605.0</td>\n",
       "      <td>3067.0</td>\n",
       "    </tr>\n",
       "    <tr>\n",
       "      <th>184</th>\n",
       "      <td>11692</td>\n",
       "      <td>36081</td>\n",
       "      <td>81</td>\n",
       "      <td>Queens</td>\n",
       "      <td>36</td>\n",
       "      <td>NY</td>\n",
       "      <td>2971</td>\n",
       "      <td>69</td>\n",
       "      <td>2972</td>\n",
       "      <td>68</td>\n",
       "      <td>...</td>\n",
       "      <td>3.260146</td>\n",
       "      <td>210</td>\n",
       "      <td>11692</td>\n",
       "      <td>22394</td>\n",
       "      <td>1856</td>\n",
       "      <td>20538</td>\n",
       "      <td>24250</td>\n",
       "      <td>86000US11692</td>\n",
       "      <td>53077.0</td>\n",
       "      <td>7883.0</td>\n",
       "    </tr>\n",
       "    <tr>\n",
       "      <th>185</th>\n",
       "      <td>11693</td>\n",
       "      <td>36081</td>\n",
       "      <td>81</td>\n",
       "      <td>Queens</td>\n",
       "      <td>36</td>\n",
       "      <td>NY</td>\n",
       "      <td>2427</td>\n",
       "      <td>71</td>\n",
       "      <td>2430</td>\n",
       "      <td>70</td>\n",
       "      <td>...</td>\n",
       "      <td>2.894415</td>\n",
       "      <td>211</td>\n",
       "      <td>11693</td>\n",
       "      <td>13029</td>\n",
       "      <td>1251</td>\n",
       "      <td>11778</td>\n",
       "      <td>14280</td>\n",
       "      <td>86000US11693</td>\n",
       "      <td>52946.0</td>\n",
       "      <td>12260.0</td>\n",
       "    </tr>\n",
       "    <tr>\n",
       "      <th>186</th>\n",
       "      <td>11694</td>\n",
       "      <td>36081</td>\n",
       "      <td>81</td>\n",
       "      <td>Queens</td>\n",
       "      <td>36</td>\n",
       "      <td>NY</td>\n",
       "      <td>4478</td>\n",
       "      <td>102</td>\n",
       "      <td>4468</td>\n",
       "      <td>105</td>\n",
       "      <td>...</td>\n",
       "      <td>2.412038</td>\n",
       "      <td>212</td>\n",
       "      <td>11694</td>\n",
       "      <td>21258</td>\n",
       "      <td>1683</td>\n",
       "      <td>19575</td>\n",
       "      <td>22941</td>\n",
       "      <td>86000US11694</td>\n",
       "      <td>87755.0</td>\n",
       "      <td>7930.0</td>\n",
       "    </tr>\n",
       "    <tr>\n",
       "      <th>187</th>\n",
       "      <td>11697</td>\n",
       "      <td>36081</td>\n",
       "      <td>81</td>\n",
       "      <td>Queens</td>\n",
       "      <td>36</td>\n",
       "      <td>NY</td>\n",
       "      <td>1346</td>\n",
       "      <td>33</td>\n",
       "      <td>1344</td>\n",
       "      <td>33</td>\n",
       "      <td>...</td>\n",
       "      <td>3.405797</td>\n",
       "      <td>213</td>\n",
       "      <td>11697</td>\n",
       "      <td>3527</td>\n",
       "      <td>819</td>\n",
       "      <td>2708</td>\n",
       "      <td>4346</td>\n",
       "      <td>86000US11697</td>\n",
       "      <td>116205.0</td>\n",
       "      <td>25889.0</td>\n",
       "    </tr>\n",
       "  </tbody>\n",
       "</table>\n",
       "<p>178 rows × 32 columns</p>\n",
       "</div>"
      ],
      "text/plain": [
       "     Zip_Code  FIPS_Code  County_FIPS_Code     County  State_FIPS_Code State  \\\n",
       "0       10001      36061                61  New York                36   NY    \n",
       "1       10002      36061                61  New York                36   NY    \n",
       "2       10003      36061                61  New York                36   NY    \n",
       "3       10004      36061                61  New York                36   NY    \n",
       "4       10005      36061                61  New York                36   NY    \n",
       "..        ...        ...               ...        ...              ...   ...   \n",
       "183     11691      36081                81    Queens                36   NY    \n",
       "184     11692      36081                81    Queens                36   NY    \n",
       "185     11693      36081                81    Queens                36   NY    \n",
       "186     11694      36081                81    Queens                36   NY    \n",
       "187     11697      36081                81    Queens                36   NY    \n",
       "\n",
       "     Jan_2022_Medicare_Benes  Jan_2022_Power_Dependent_Devices_DME  \\\n",
       "0                       4736                                   114   \n",
       "1                      18738                                   460   \n",
       "2                       8932                                   237   \n",
       "3                        811                                    16   \n",
       "4                        325                                    11   \n",
       "..                       ...                                   ...   \n",
       "183                     9788                                   323   \n",
       "184                     2971                                    69   \n",
       "185                     2427                                    71   \n",
       "186                     4478                                   102   \n",
       "187                     1346                                    33   \n",
       "\n",
       "     Feb_2022_Medicare_Benes  Feb_2022_Power_Dependent_Devices_DME  ...  \\\n",
       "0                       4720                                   107  ...   \n",
       "1                      18731                                   445  ...   \n",
       "2                       8913                                   235  ...   \n",
       "3                        807                                    17  ...   \n",
       "4                        328                                    11  ...   \n",
       "..                       ...                                   ...  ...   \n",
       "183                     9741                                   324  ...   \n",
       "184                     2972                                    68  ...   \n",
       "185                     2430                                    70  ...   \n",
       "186                     4468                                   105  ...   \n",
       "187                     1344                                    33  ...   \n",
       "\n",
       "       August  Unnamed: 0  Zipcode  Estimate  Margin of Error  Lower Estimate  \\\n",
       "0    2.544366           0    10001     25026             1759           23267   \n",
       "1    2.586527           1    10002     74363             3183           71180   \n",
       "2    2.692048           2    10003     54671             2568           52103   \n",
       "3    2.098765           3    10004      3310              658            2652   \n",
       "4    3.244838           4    10005      8664              906            7758   \n",
       "..        ...         ...      ...       ...              ...             ...   \n",
       "183  3.343772         209    11691     68454             3192           65262   \n",
       "184  3.260146         210    11692     22394             1856           20538   \n",
       "185  2.894415         211    11693     13029             1251           11778   \n",
       "186  2.412038         212    11694     21258             1683           19575   \n",
       "187  3.405797         213    11697      3527              819            2708   \n",
       "\n",
       "     Upper Estimate         geoid  median_household_income  B19013001, Error  \n",
       "0             26785  86000US10001                  96787.0            9861.0  \n",
       "1             77546  86000US10002                  35607.0            2214.0  \n",
       "2             57239  86000US10003                 129981.0            8865.0  \n",
       "3              3968  86000US10004                 204949.0           12375.0  \n",
       "4              9570  86000US10005                 184681.0           14575.0  \n",
       "..              ...           ...                      ...               ...  \n",
       "183           71646  86000US11691                  52605.0            3067.0  \n",
       "184           24250  86000US11692                  53077.0            7883.0  \n",
       "185           14280  86000US11693                  52946.0           12260.0  \n",
       "186           22941  86000US11694                  87755.0            7930.0  \n",
       "187            4346  86000US11697                 116205.0           25889.0  \n",
       "\n",
       "[178 rows x 32 columns]"
      ]
     },
     "execution_count": 29,
     "metadata": {},
     "output_type": "execute_result"
    }
   ],
   "source": [
    "dme_income_df"
   ]
  },
  {
   "cell_type": "code",
   "execution_count": 30,
   "id": "d7bab660",
   "metadata": {},
   "outputs": [],
   "source": [
    "income_df.geoid = income_df.geoid[-5:]"
   ]
  },
  {
   "cell_type": "markdown",
   "id": "04f8290d",
   "metadata": {},
   "source": [
    "## Cross referencing DME dependency with pct below poverty"
   ]
  },
  {
   "cell_type": "code",
   "execution_count": 31,
   "id": "cc382601",
   "metadata": {},
   "outputs": [],
   "source": [
    "pct_below_poverty = pd.read_csv(\"housing_data.csv\")"
   ]
  },
  {
   "cell_type": "code",
   "execution_count": 34,
   "id": "72ea128b",
   "metadata": {},
   "outputs": [],
   "source": [
    "pct_below_poverty = pct_below_poverty[['zip', 'pct_below_poverty']]"
   ]
  },
  {
   "cell_type": "code",
   "execution_count": 51,
   "id": "32f9f311",
   "metadata": {},
   "outputs": [
    {
     "data": {
      "text/html": [
       "<div>\n",
       "<style scoped>\n",
       "    .dataframe tbody tr th:only-of-type {\n",
       "        vertical-align: middle;\n",
       "    }\n",
       "\n",
       "    .dataframe tbody tr th {\n",
       "        vertical-align: top;\n",
       "    }\n",
       "\n",
       "    .dataframe thead th {\n",
       "        text-align: right;\n",
       "    }\n",
       "</style>\n",
       "<table border=\"1\" class=\"dataframe\">\n",
       "  <thead>\n",
       "    <tr style=\"text-align: right;\">\n",
       "      <th></th>\n",
       "      <th>Zip_Code</th>\n",
       "      <th>August</th>\n",
       "      <th>pct_below_poverty</th>\n",
       "    </tr>\n",
       "  </thead>\n",
       "  <tbody>\n",
       "    <tr>\n",
       "      <th>0</th>\n",
       "      <td>10001</td>\n",
       "      <td>2.544366</td>\n",
       "      <td>13.06</td>\n",
       "    </tr>\n",
       "    <tr>\n",
       "      <th>1</th>\n",
       "      <td>10002</td>\n",
       "      <td>2.586527</td>\n",
       "      <td>27.36</td>\n",
       "    </tr>\n",
       "    <tr>\n",
       "      <th>2</th>\n",
       "      <td>10003</td>\n",
       "      <td>2.692048</td>\n",
       "      <td>9.20</td>\n",
       "    </tr>\n",
       "    <tr>\n",
       "      <th>3</th>\n",
       "      <td>10004</td>\n",
       "      <td>2.098765</td>\n",
       "      <td>1.32</td>\n",
       "    </tr>\n",
       "    <tr>\n",
       "      <th>4</th>\n",
       "      <td>10005</td>\n",
       "      <td>3.244838</td>\n",
       "      <td>9.46</td>\n",
       "    </tr>\n",
       "    <tr>\n",
       "      <th>...</th>\n",
       "      <td>...</td>\n",
       "      <td>...</td>\n",
       "      <td>...</td>\n",
       "    </tr>\n",
       "    <tr>\n",
       "      <th>178</th>\n",
       "      <td>11436</td>\n",
       "      <td>2.756211</td>\n",
       "      <td>11.24</td>\n",
       "    </tr>\n",
       "    <tr>\n",
       "      <th>179</th>\n",
       "      <td>11691</td>\n",
       "      <td>3.343772</td>\n",
       "      <td>19.42</td>\n",
       "    </tr>\n",
       "    <tr>\n",
       "      <th>180</th>\n",
       "      <td>11692</td>\n",
       "      <td>3.260146</td>\n",
       "      <td>25.60</td>\n",
       "    </tr>\n",
       "    <tr>\n",
       "      <th>181</th>\n",
       "      <td>11693</td>\n",
       "      <td>2.894415</td>\n",
       "      <td>14.34</td>\n",
       "    </tr>\n",
       "    <tr>\n",
       "      <th>182</th>\n",
       "      <td>11694</td>\n",
       "      <td>2.412038</td>\n",
       "      <td>11.19</td>\n",
       "    </tr>\n",
       "  </tbody>\n",
       "</table>\n",
       "<p>183 rows × 3 columns</p>\n",
       "</div>"
      ],
      "text/plain": [
       "     Zip_Code    August  pct_below_poverty\n",
       "0       10001  2.544366              13.06\n",
       "1       10002  2.586527              27.36\n",
       "2       10003  2.692048               9.20\n",
       "3       10004  2.098765               1.32\n",
       "4       10005  3.244838               9.46\n",
       "..        ...       ...                ...\n",
       "178     11436  2.756211              11.24\n",
       "179     11691  3.343772              19.42\n",
       "180     11692  3.260146              25.60\n",
       "181     11693  2.894415              14.34\n",
       "182     11694  2.412038              11.19\n",
       "\n",
       "[183 rows x 3 columns]"
      ]
     },
     "execution_count": 51,
     "metadata": {},
     "output_type": "execute_result"
    }
   ],
   "source": [
    "poverty_dme = df_2022.merge(pct_below_poverty, left_on=\"Zip_Code\", right_on=\"zip\")\n",
    "poverty_dme = poverty_dme[['Zip_Code', 'August', 'pct_below_poverty']]\n",
    "poverty_dme"
   ]
  },
  {
   "cell_type": "code",
   "execution_count": 59,
   "id": "62d0d3e9",
   "metadata": {},
   "outputs": [],
   "source": [
    "# Drop Airport\n",
    "\n",
    "poverty_dme.drop(173, inplace=True)"
   ]
  },
  {
   "cell_type": "code",
   "execution_count": 61,
   "id": "fb604165",
   "metadata": {},
   "outputs": [],
   "source": [
    "poverty_dme.to_csv(\"poverty_dme.csv\")"
   ]
  },
  {
   "cell_type": "code",
   "execution_count": 60,
   "id": "b3a30914",
   "metadata": {},
   "outputs": [
    {
     "data": {
      "text/plain": [
       "Text(0, 0.5, 'Pct of electric medical equipment users')"
      ]
     },
     "execution_count": 60,
     "metadata": {},
     "output_type": "execute_result"
    },
    {
     "data": {
      "image/png": "[encoded data removed]",
      "text/plain": [
       "<Figure size 640x480 with 1 Axes>"
      ]
     },
     "metadata": {},
     "output_type": "display_data"
    }
   ],
   "source": [
    "ax = poverty_dme.plot(x=\"pct_below_poverty\", y=\"August\", kind=\"scatter\")\n",
    "ax.set_ylabel(\"Pct of electric medical equipment users\")"
   ]
  },
  {
   "cell_type": "markdown",
   "id": "cb8324e6",
   "metadata": {},
   "source": [
    "# Factor in age to the existing plot"
   ]
  },
  {
   "cell_type": "code",
   "execution_count": 49,
   "id": "0f8c89cb",
   "metadata": {},
   "outputs": [],
   "source": [
    "import json\n",
    "\n",
    "age_df = pd.read_csv(\"acs2020_5yr_B01001_86000US10460/acs2020_5yr_B01001_86000US10460.csv\")\n",
    "\n",
    "with open(\"acs2020_5yr_B01001_86000US10460/metadata.json\") as f:\n",
    "    metadata = json.load(f)"
   ]
  },
  {
   "cell_type": "code",
   "execution_count": 52,
   "id": "147fc338",
   "metadata": {},
   "outputs": [],
   "source": [
    "name_of_cols = {k:v[\"name\"] for k, v in metadata[\"tables\"][\"B01001\"][\"columns\"].items()}"
   ]
  },
  {
   "cell_type": "code",
   "execution_count": 53,
   "id": "75d55881",
   "metadata": {},
   "outputs": [],
   "source": [
    "age_df.rename(columns=name_of_cols, inplace=True)"
   ]
  },
  {
   "cell_type": "code",
   "execution_count": 55,
   "id": "030109ab",
   "metadata": {},
   "outputs": [],
   "source": [
    "melted_age = age_df.melt(id_vars=['geoid', 'name'])"
   ]
  },
  {
   "cell_type": "code",
   "execution_count": 58,
   "id": "21f8f998",
   "metadata": {
    "scrolled": false
   },
   "outputs": [],
   "source": [
    "pd.options.display.max_columns=None\n",
    "\n",
    "pivoted_age = melted_age.pivot_table(index=[\"name\", \"geoid\"], columns=\"variable\", values=\"value\", aggfunc=\"sum\").reset_index()\n"
   ]
  },
  {
   "cell_type": "code",
   "execution_count": 60,
   "id": "b5feb26e",
   "metadata": {},
   "outputs": [],
   "source": [
    "# Remove margin of error columns\n",
    "pivoted_age.drop(list(pivoted_age.filter(regex = 'Error')), axis = 1, inplace = True)"
   ]
  },
  {
   "cell_type": "code",
   "execution_count": 62,
   "id": "927aaf2d",
   "metadata": {},
   "outputs": [],
   "source": [
    "pct_dict = {}\n",
    "\n",
    "for col in pivoted_age.columns[4:-4]:\n",
    "    pct_dict[col] = pivoted_age[col] / pivoted_age[\"Total:\"]*100"
   ]
  },
  {
   "cell_type": "code",
   "execution_count": 63,
   "id": "099e3e8f",
   "metadata": {},
   "outputs": [],
   "source": [
    "pct_df = pd.DataFrame(pct_dict)"
   ]
  },
  {
   "cell_type": "code",
   "execution_count": 64,
   "id": "5b26c120",
   "metadata": {},
   "outputs": [],
   "source": [
    "pct_df = pd.concat([pct_df, pd.DataFrame(pivoted_age.name)], axis=1)"
   ]
  },
  {
   "cell_type": "code",
   "execution_count": 65,
   "id": "fb16f9e6",
   "metadata": {},
   "outputs": [],
   "source": [
    "pct_df.rename(columns={\"name\":\"zip\"}, inplace=True)"
   ]
  },
  {
   "cell_type": "code",
   "execution_count": 67,
   "id": "e249af85",
   "metadata": {},
   "outputs": [
    {
     "data": {
      "text/plain": [
       "Index(['18 and 19 years', '20 years', '21 years', '22 to 24 years',\n",
       "       '25 to 29 years', '30 to 34 years', '35 to 39 years', '40 to 44 years',\n",
       "       '45 to 49 years', '5 to 9 years', '50 to 54 years', '55 to 59 years',\n",
       "       '60 and 61 years', '62 to 64 years', '65 and 66 years',\n",
       "       '67 to 69 years', '70 to 74 years', '75 to 79 years', '80 to 84 years',\n",
       "       '85 years and over', 'zip'],\n",
       "      dtype='object')"
      ]
     },
     "execution_count": 67,
     "metadata": {},
     "output_type": "execute_result"
    }
   ],
   "source": [
    "pct_df.columns"
   ]
  },
  {
   "cell_type": "code",
   "execution_count": 78,
   "id": "4eda4f84",
   "metadata": {},
   "outputs": [],
   "source": [
    "pct_df[\"percent_elderly\"] = pct_df[['65 and 66 years','67 to 69 years', '70 to 74 years', '75 to 79 years', '80 to 84 years','85 years and over']].sum(axis=1)\n",
    "merged_income_age = pct_df[[\"zip\", \"percent_elderly\"]].merge(dme_income_df, left_on=\"zip\", right_on=\"Zip_Code\")\n",
    "merged_income_age[[\"August\", \"median_household_income\", \"zip\", \"percent_elderly\"]].to_csv(\"merged_income_age.csv\")\n"
   ]
  }
 ],
 "metadata": {
  "kernelspec": {
   "display_name": "Python 3 (ipykernel)",
   "language": "python",
   "name": "python3"
  },
  "language_info": {
   "codemirror_mode": {
    "name": "ipython",
    "version": 3
   },
   "file_extension": ".py",
   "mimetype": "text/x-python",
   "name": "python",
   "nbconvert_exporter": "python",
   "pygments_lexer": "ipython3",
   "version": "3.11.0rc2"
  }
 },
 "nbformat": 4,
 "nbformat_minor": 5
}
