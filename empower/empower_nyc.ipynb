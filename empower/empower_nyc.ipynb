{
 "cells": [
  {
   "cell_type": "code",
   "execution_count": 1,
   "id": "38cce296",
   "metadata": {},
   "outputs": [],
   "source": [
    "# Data is from https://empowerprogram.hhs.gov/about-empowermap.html"
   ]
  },
  {
   "cell_type": "code",
   "execution_count": 2,
   "id": "67b64aa4",
   "metadata": {},
   "outputs": [],
   "source": [
    "import pandas as pd"
   ]
  },
  {
   "cell_type": "code",
   "execution_count": 3,
   "id": "3ccdc770",
   "metadata": {},
   "outputs": [],
   "source": [
    "# Import excel files of empower DME users\n",
    "\n",
    "years = [2016, 2017, 2018, 2019, 2020, 2021]\n",
    "\n",
    "dataframes = [pd.ExcelFile(str(year)+\"_HHSemPOWERMapHistoricalDataset.xlsx\").parse(\"Zip Code\") for year in years]"
   ]
  },
  {
   "cell_type": "code",
   "execution_count": 4,
   "id": "ccf263c1",
   "metadata": {},
   "outputs": [],
   "source": [
    "# import nyc zip codes and population\n",
    "\n",
    "nyc_zip = pd.read_csv('/Users/minjukim/Documents/codes/Reporting2/df_nyc_zip.csv')"
   ]
  },
  {
   "cell_type": "code",
   "execution_count": 5,
   "id": "f7089db5",
   "metadata": {},
   "outputs": [],
   "source": [
    "nyc_dfs = [dataframe.merge(nyc_zip, how=\"right\", left_on='Zip_Code', right_on = 'Zipcode') for dataframe in dataframes]\n"
   ]
  },
  {
   "cell_type": "code",
   "execution_count": 6,
   "id": "c1d3594a",
   "metadata": {},
   "outputs": [],
   "source": [
    "for i, df in enumerate(nyc_dfs):\n",
    "    nyc_dfs[i] = df.drop([\"Zipcode\", \"Unnamed: 0\"], axis=1)\n",
    "    for month in range(1, 13):\n",
    "        nyc_dfs[i][month] = df[df.columns[month*2+5]]/df[df.columns[month*2+4]]*100"
   ]
  },
  {
   "cell_type": "code",
   "execution_count": 7,
   "id": "d8f24487",
   "metadata": {},
   "outputs": [],
   "source": [
    "years=[]\n",
    "for i, df in enumerate(nyc_dfs):\n",
    "    dme_pop = {}\n",
    "    for month in range(1, 13):\n",
    "        dme_pop[month] = nyc_dfs[i][month].mean()\n",
    "    years.append(dme_pop)"
   ]
  },
  {
   "cell_type": "code",
   "execution_count": 8,
   "id": "c6a09255",
   "metadata": {},
   "outputs": [],
   "source": [
    "monthly_df = pd.DataFrame(years).transpose()\n",
    "monthly_df.columns = monthly_df.columns+2016\n",
    "monthly_df.reset_index(inplace=True, names=\"month\")"
   ]
  },
  {
   "cell_type": "code",
   "execution_count": 9,
   "id": "7c8d1d78",
   "metadata": {},
   "outputs": [],
   "source": [
    "monthly_df.month = monthly_df.month.astype(str).str.zfill(2)"
   ]
  },
  {
   "cell_type": "code",
   "execution_count": 11,
   "id": "cb040c97",
   "metadata": {},
   "outputs": [],
   "source": [
    "melted_monthly = pd.melt(monthly_df, id_vars='month', var_name=\"year\", value_name='pct_DME_users')"
   ]
  },
  {
   "cell_type": "code",
   "execution_count": 12,
   "id": "a2d76964",
   "metadata": {},
   "outputs": [],
   "source": [
    "melted_monthly['date'] = melted_monthly.year.astype(str) + \"-\" + melted_monthly.month.astype(str)"
   ]
  },
  {
   "cell_type": "code",
   "execution_count": 14,
   "id": "8b767e05",
   "metadata": {
    "scrolled": true
   },
   "outputs": [],
   "source": [
    "melted_monthly.date = pd.to_datetime(melted_monthly.date, format=\"%Y-%m\")"
   ]
  },
  {
   "cell_type": "code",
   "execution_count": 15,
   "id": "3bb9a46e",
   "metadata": {},
   "outputs": [],
   "source": [
    "# Get zip code data on most recent data available.\n",
    "df_2022 = pd.ExcelFile(\"2022_HHSemPOWERMapHistoricalDataset.xlsx\").parse(\"Zip Code\")"
   ]
  },
  {
   "cell_type": "code",
   "execution_count": 16,
   "id": "289bf63d",
   "metadata": {},
   "outputs": [],
   "source": [
    "df_2022['August'] = df_2022['Aug_2022_Power_Dependent_Devices_DME']/df_2022[\"Aug_2022_Medicare_Benes\"]*100"
   ]
  },
  {
   "cell_type": "code",
   "execution_count": 17,
   "id": "3fe7acd8",
   "metadata": {},
   "outputs": [],
   "source": [
    "df_2022 = df_2022.merge(nyc_zip, how=\"inner\", left_on='Zip_Code', right_on = 'Zipcode')"
   ]
  },
  {
   "cell_type": "code",
   "execution_count": 18,
   "id": "f7364b64",
   "metadata": {},
   "outputs": [],
   "source": [
    "df_2022 = df_2022[df_2022.County!=\"Nassau \"]"
   ]
  },
  {
   "cell_type": "markdown",
   "id": "876a95ce",
   "metadata": {},
   "source": [
    "## Comparing oldest and newest datapoint."
   ]
  },
  {
   "cell_type": "code",
   "execution_count": 21,
   "id": "204e4c46",
   "metadata": {
    "scrolled": false
   },
   "outputs": [
    {
     "data": {
      "text/plain": [
       "1094567.0"
      ]
     },
     "execution_count": 21,
     "metadata": {},
     "output_type": "execute_result"
    }
   ],
   "source": [
    "nyc_dfs[0][\"Jan_2016_Medicare_Benes\"].sum()"
   ]
  },
  {
   "cell_type": "code",
   "execution_count": 22,
   "id": "10ee8622",
   "metadata": {},
   "outputs": [
    {
     "data": {
      "text/plain": [
       "25226.0"
      ]
     },
     "execution_count": 22,
     "metadata": {},
     "output_type": "execute_result"
    }
   ],
   "source": [
    "nyc_dfs[0][\"Jan_2016_Power_Dependent_Devices_DME\"].sum()"
   ]
  },
  {
   "cell_type": "code",
   "execution_count": 23,
   "id": "8732acde",
   "metadata": {
    "scrolled": false
   },
   "outputs": [
    {
     "data": {
      "text/plain": [
       "1338990"
      ]
     },
     "execution_count": 23,
     "metadata": {},
     "output_type": "execute_result"
    }
   ],
   "source": [
    "df_2022[\"Aug_2022_Medicare_Benes\"].sum()\n"
   ]
  },
  {
   "cell_type": "code",
   "execution_count": 24,
   "id": "4140656e",
   "metadata": {},
   "outputs": [
    {
     "data": {
      "text/plain": [
       "35703"
      ]
     },
     "execution_count": 24,
     "metadata": {},
     "output_type": "execute_result"
    }
   ],
   "source": [
    "df_2022[\"Aug_2022_Power_Dependent_Devices_DME\"].sum()"
   ]
  },
  {
   "cell_type": "code",
   "execution_count": 25,
   "id": "2114291e",
   "metadata": {},
   "outputs": [
    {
     "data": {
      "text/plain": [
       "3.7922225819773474"
      ]
     },
     "execution_count": 25,
     "metadata": {},
     "output_type": "execute_result"
    }
   ],
   "source": [
    "df_2022.August.mean()"
   ]
  },
  {
   "cell_type": "markdown",
   "id": "a1b22e57",
   "metadata": {},
   "source": [
    "## Cross referencing DME dependency with household income"
   ]
  },
  {
   "cell_type": "code",
   "execution_count": 26,
   "id": "1ab12bb6",
   "metadata": {},
   "outputs": [],
   "source": [
    "income_df = pd.read_csv(\"acs2020_5yr_B19013_86000US10460/acs2020_5yr_B19013_86000US10460.csv\")"
   ]
  },
  {
   "cell_type": "code",
   "execution_count": 29,
   "id": "dcc1adf2",
   "metadata": {},
   "outputs": [],
   "source": [
    "# Rename and simplify columns\n",
    "\n",
    "income_df = income_df.rename({\"name\": \"Zip_Code\", \"B19013001\": \"median_household_income\"}, axis=\"columns\")"
   ]
  },
  {
   "cell_type": "code",
   "execution_count": 30,
   "id": "251a4603",
   "metadata": {},
   "outputs": [],
   "source": [
    "dme_income_df = pd.merge(df_2022, income_df)"
   ]
  },
  {
   "cell_type": "code",
   "execution_count": 31,
   "id": "661e96e3",
   "metadata": {},
   "outputs": [],
   "source": [
    "# Exclude zip codes where poluation is 0 or close to 0\n",
    "\n",
    "dme_income_df = dme_income_df[(dme_income_df.Estimate!=0) & (dme_income_df.median_household_income.notnull())]"
   ]
  },
  {
   "cell_type": "code",
   "execution_count": 32,
   "id": "b57a2716",
   "metadata": {},
   "outputs": [],
   "source": [
    "# dme_income_df.to_csv('dme_income.csv')"
   ]
  },
  {
   "cell_type": "code",
   "execution_count": 33,
   "id": "0758a3ee",
   "metadata": {
    "scrolled": false
   },
   "outputs": [
    {
     "data": {
      "text/plain": [
       "Text(0, 0.5, 'Pct of electric medical equipment users')"
      ]
     },
     "execution_count": 33,
     "metadata": {},
     "output_type": "execute_result"
    },
    {
     "data": {
      "image/png": "[encoded data removed]",
      "text/plain": [
       "<Figure size 640x480 with 1 Axes>"
      ]
     },
     "metadata": {},
     "output_type": "display_data"
    }
   ],
   "source": [
    "ax = dme_income_df.plot(x=\"median_household_income\", y=\"August\", kind=\"scatter\")\n",
    "ax.set_ylabel(\"Pct of electric medical equipment users\")"
   ]
  },
  {
   "cell_type": "code",
   "execution_count": 34,
   "id": "042999ae",
   "metadata": {},
   "outputs": [
    {
     "data": {
      "text/plain": [
       "<pandas.plotting._core.PlotAccessor object at 0x1272b1250>"
      ]
     },
     "execution_count": 34,
     "metadata": {},
     "output_type": "execute_result"
    }
   ],
   "source": [
    "dme_income_df.plot"
   ]
  },
  {
   "cell_type": "code",
   "execution_count": 35,
   "id": "d7bab660",
   "metadata": {},
   "outputs": [],
   "source": [
    "income_df.geoid = income_df.geoid[-5:]"
   ]
  },
  {
   "cell_type": "markdown",
   "id": "cb8324e6",
   "metadata": {},
   "source": [
    "# Factor in age to the existing plot"
   ]
  },
  {
   "cell_type": "code",
   "execution_count": 76,
   "id": "0f8c89cb",
   "metadata": {},
   "outputs": [],
   "source": [
    "import json\n",
    "\n",
    "age_df = pd.read_csv(\"acs2020_5yr_B01001_86000US10460/acs2020_5yr_B01001_86000US10460.csv\")\n",
    "\n",
    "with open(\"acs2020_5yr_B01001_86000US10460/metadata.json\") as f:\n",
    "    metadata = json.load(f)"
   ]
  },
  {
   "cell_type": "code",
   "execution_count": 77,
   "id": "147fc338",
   "metadata": {},
   "outputs": [],
   "source": [
    "name_of_cols = {k:v[\"name\"] for k, v in metadata[\"tables\"][\"B01001\"][\"columns\"].items()}"
   ]
  },
  {
   "cell_type": "code",
   "execution_count": 78,
   "id": "75d55881",
   "metadata": {},
   "outputs": [],
   "source": [
    "age_df.rename(columns=name_of_cols, inplace=True)"
   ]
  },
  {
   "cell_type": "code",
   "execution_count": 79,
   "id": "030109ab",
   "metadata": {},
   "outputs": [],
   "source": [
    "melted_age = age_df.melt(id_vars=['geoid', 'name'])"
   ]
  },
  {
   "cell_type": "code",
   "execution_count": 80,
   "id": "21f8f998",
   "metadata": {
    "scrolled": false
   },
   "outputs": [],
   "source": [
    "pd.options.display.max_columns=None\n",
    "\n",
    "pivoted_age = melted_age.pivot_table(index=[\"name\", \"geoid\"], columns=\"variable\", values=\"value\", aggfunc=\"sum\").reset_index()\n"
   ]
  },
  {
   "cell_type": "code",
   "execution_count": 81,
   "id": "dc01486f",
   "metadata": {},
   "outputs": [],
   "source": [
    "# Remove margin of error columns\n",
    "pivoted_age.drop(list(pivoted_age.filter(regex = 'Error')), axis = 1, inplace = True)"
   ]
  },
  {
   "cell_type": "code",
   "execution_count": 113,
   "id": "90230d87",
   "metadata": {},
   "outputs": [],
   "source": [
    "pct_dict = {}\n",
    "\n",
    "for col in pivoted_age.columns[4:-5]:\n",
    "    pct_dict[col] = pivoted_age[col] / pivoted_age[\"Total:\"]*100"
   ]
  },
  {
   "cell_type": "code",
   "execution_count": 114,
   "id": "f2a4d608",
   "metadata": {
    "scrolled": true
   },
   "outputs": [
    {
     "data": {
      "text/html": [
       "<div>\n",
       "<style scoped>\n",
       "    .dataframe tbody tr th:only-of-type {\n",
       "        vertical-align: middle;\n",
       "    }\n",
       "\n",
       "    .dataframe tbody tr th {\n",
       "        vertical-align: top;\n",
       "    }\n",
       "\n",
       "    .dataframe thead th {\n",
       "        text-align: right;\n",
       "    }\n",
       "</style>\n",
       "<table border=\"1\" class=\"dataframe\">\n",
       "  <thead>\n",
       "    <tr style=\"text-align: right;\">\n",
       "      <th></th>\n",
       "      <th>18 and 19 years</th>\n",
       "      <th>20 years</th>\n",
       "      <th>21 years</th>\n",
       "      <th>22 to 24 years</th>\n",
       "      <th>25 to 29 years</th>\n",
       "      <th>30 to 34 years</th>\n",
       "      <th>35 to 39 years</th>\n",
       "      <th>40 to 44 years</th>\n",
       "      <th>45 to 49 years</th>\n",
       "      <th>5 to 9 years</th>\n",
       "      <th>50 to 54 years</th>\n",
       "      <th>55 to 59 years</th>\n",
       "      <th>60 and 61 years</th>\n",
       "      <th>62 to 64 years</th>\n",
       "      <th>65 and 66 years</th>\n",
       "      <th>67 to 69 years</th>\n",
       "      <th>70 to 74 years</th>\n",
       "      <th>75 to 79 years</th>\n",
       "      <th>80 to 84 years</th>\n",
       "    </tr>\n",
       "  </thead>\n",
       "  <tbody>\n",
       "    <tr>\n",
       "      <th>0</th>\n",
       "      <td>3.320547</td>\n",
       "      <td>1.026932</td>\n",
       "      <td>1.506433</td>\n",
       "      <td>5.050747</td>\n",
       "      <td>12.610885</td>\n",
       "      <td>13.813634</td>\n",
       "      <td>8.247423</td>\n",
       "      <td>7.532167</td>\n",
       "      <td>6.625110</td>\n",
       "      <td>2.665228</td>\n",
       "      <td>6.181571</td>\n",
       "      <td>4.431391</td>\n",
       "      <td>2.924958</td>\n",
       "      <td>3.108767</td>\n",
       "      <td>1.402541</td>\n",
       "      <td>1.530408</td>\n",
       "      <td>2.745145</td>\n",
       "      <td>2.944937</td>\n",
       "      <td>1.554383</td>\n",
       "    </tr>\n",
       "    <tr>\n",
       "      <th>1</th>\n",
       "      <td>1.472506</td>\n",
       "      <td>0.859298</td>\n",
       "      <td>1.453680</td>\n",
       "      <td>3.863480</td>\n",
       "      <td>9.506072</td>\n",
       "      <td>7.999946</td>\n",
       "      <td>5.945161</td>\n",
       "      <td>6.070223</td>\n",
       "      <td>6.437341</td>\n",
       "      <td>4.065194</td>\n",
       "      <td>5.856407</td>\n",
       "      <td>6.998104</td>\n",
       "      <td>3.314821</td>\n",
       "      <td>3.398195</td>\n",
       "      <td>3.079488</td>\n",
       "      <td>3.651009</td>\n",
       "      <td>5.175961</td>\n",
       "      <td>3.378024</td>\n",
       "      <td>3.910547</td>\n",
       "    </tr>\n",
       "    <tr>\n",
       "      <th>2</th>\n",
       "      <td>11.940517</td>\n",
       "      <td>3.345467</td>\n",
       "      <td>2.050447</td>\n",
       "      <td>5.229464</td>\n",
       "      <td>14.790291</td>\n",
       "      <td>13.411132</td>\n",
       "      <td>6.423881</td>\n",
       "      <td>4.942291</td>\n",
       "      <td>3.361929</td>\n",
       "      <td>1.498052</td>\n",
       "      <td>4.872784</td>\n",
       "      <td>4.618536</td>\n",
       "      <td>1.677306</td>\n",
       "      <td>3.495455</td>\n",
       "      <td>1.605970</td>\n",
       "      <td>2.813192</td>\n",
       "      <td>2.846116</td>\n",
       "      <td>2.601013</td>\n",
       "      <td>1.300507</td>\n",
       "    </tr>\n",
       "    <tr>\n",
       "      <th>3</th>\n",
       "      <td>2.447130</td>\n",
       "      <td>0.181269</td>\n",
       "      <td>0.090634</td>\n",
       "      <td>2.326284</td>\n",
       "      <td>21.903323</td>\n",
       "      <td>9.244713</td>\n",
       "      <td>8.157100</td>\n",
       "      <td>4.803625</td>\n",
       "      <td>6.283988</td>\n",
       "      <td>1.601208</td>\n",
       "      <td>12.567976</td>\n",
       "      <td>7.915408</td>\n",
       "      <td>2.024169</td>\n",
       "      <td>6.283988</td>\n",
       "      <td>3.655589</td>\n",
       "      <td>1.238671</td>\n",
       "      <td>1.570997</td>\n",
       "      <td>0.876133</td>\n",
       "      <td>0.000000</td>\n",
       "    </tr>\n",
       "    <tr>\n",
       "      <th>4</th>\n",
       "      <td>0.854109</td>\n",
       "      <td>1.685134</td>\n",
       "      <td>1.211911</td>\n",
       "      <td>8.737304</td>\n",
       "      <td>25.657895</td>\n",
       "      <td>17.036011</td>\n",
       "      <td>9.626039</td>\n",
       "      <td>9.533703</td>\n",
       "      <td>4.789935</td>\n",
       "      <td>2.262235</td>\n",
       "      <td>4.593721</td>\n",
       "      <td>3.901200</td>\n",
       "      <td>1.096491</td>\n",
       "      <td>0.011542</td>\n",
       "      <td>0.000000</td>\n",
       "      <td>0.196214</td>\n",
       "      <td>0.588643</td>\n",
       "      <td>0.277008</td>\n",
       "      <td>0.000000</td>\n",
       "    </tr>\n",
       "    <tr>\n",
       "      <th>...</th>\n",
       "      <td>...</td>\n",
       "      <td>...</td>\n",
       "      <td>...</td>\n",
       "      <td>...</td>\n",
       "      <td>...</td>\n",
       "      <td>...</td>\n",
       "      <td>...</td>\n",
       "      <td>...</td>\n",
       "      <td>...</td>\n",
       "      <td>...</td>\n",
       "      <td>...</td>\n",
       "      <td>...</td>\n",
       "      <td>...</td>\n",
       "      <td>...</td>\n",
       "      <td>...</td>\n",
       "      <td>...</td>\n",
       "      <td>...</td>\n",
       "      <td>...</td>\n",
       "      <td>...</td>\n",
       "    </tr>\n",
       "    <tr>\n",
       "      <th>208</th>\n",
       "      <td>2.760978</td>\n",
       "      <td>1.880095</td>\n",
       "      <td>1.136530</td>\n",
       "      <td>3.516230</td>\n",
       "      <td>7.761416</td>\n",
       "      <td>6.198323</td>\n",
       "      <td>5.906156</td>\n",
       "      <td>4.280247</td>\n",
       "      <td>5.930990</td>\n",
       "      <td>9.217869</td>\n",
       "      <td>5.666579</td>\n",
       "      <td>6.372162</td>\n",
       "      <td>2.264294</td>\n",
       "      <td>2.498028</td>\n",
       "      <td>2.430829</td>\n",
       "      <td>2.294972</td>\n",
       "      <td>2.781430</td>\n",
       "      <td>1.887399</td>\n",
       "      <td>1.799749</td>\n",
       "    </tr>\n",
       "    <tr>\n",
       "      <th>209</th>\n",
       "      <td>2.076449</td>\n",
       "      <td>1.594177</td>\n",
       "      <td>0.397428</td>\n",
       "      <td>3.174958</td>\n",
       "      <td>5.711351</td>\n",
       "      <td>5.488077</td>\n",
       "      <td>8.319193</td>\n",
       "      <td>7.019737</td>\n",
       "      <td>6.689292</td>\n",
       "      <td>7.421631</td>\n",
       "      <td>5.296061</td>\n",
       "      <td>6.675895</td>\n",
       "      <td>1.473609</td>\n",
       "      <td>4.402965</td>\n",
       "      <td>1.960347</td>\n",
       "      <td>2.750737</td>\n",
       "      <td>3.429490</td>\n",
       "      <td>2.232741</td>\n",
       "      <td>2.085380</td>\n",
       "    </tr>\n",
       "    <tr>\n",
       "      <th>210</th>\n",
       "      <td>1.604114</td>\n",
       "      <td>1.174303</td>\n",
       "      <td>0.813570</td>\n",
       "      <td>2.962622</td>\n",
       "      <td>7.644485</td>\n",
       "      <td>5.426357</td>\n",
       "      <td>6.592985</td>\n",
       "      <td>4.612787</td>\n",
       "      <td>5.457057</td>\n",
       "      <td>7.045821</td>\n",
       "      <td>7.828690</td>\n",
       "      <td>7.337478</td>\n",
       "      <td>3.315680</td>\n",
       "      <td>5.971295</td>\n",
       "      <td>1.834369</td>\n",
       "      <td>2.502111</td>\n",
       "      <td>4.397882</td>\n",
       "      <td>3.584312</td>\n",
       "      <td>1.941822</td>\n",
       "    </tr>\n",
       "    <tr>\n",
       "      <th>211</th>\n",
       "      <td>1.448866</td>\n",
       "      <td>1.199548</td>\n",
       "      <td>0.329288</td>\n",
       "      <td>3.292878</td>\n",
       "      <td>4.078465</td>\n",
       "      <td>6.134161</td>\n",
       "      <td>7.258444</td>\n",
       "      <td>4.468906</td>\n",
       "      <td>6.712767</td>\n",
       "      <td>4.642958</td>\n",
       "      <td>9.055414</td>\n",
       "      <td>10.057390</td>\n",
       "      <td>2.126258</td>\n",
       "      <td>4.544172</td>\n",
       "      <td>2.380280</td>\n",
       "      <td>3.829147</td>\n",
       "      <td>4.435977</td>\n",
       "      <td>2.784834</td>\n",
       "      <td>2.507291</td>\n",
       "    </tr>\n",
       "    <tr>\n",
       "      <th>212</th>\n",
       "      <td>1.984690</td>\n",
       "      <td>0.000000</td>\n",
       "      <td>0.000000</td>\n",
       "      <td>7.314999</td>\n",
       "      <td>8.449107</td>\n",
       "      <td>3.345620</td>\n",
       "      <td>3.572441</td>\n",
       "      <td>2.750213</td>\n",
       "      <td>3.600794</td>\n",
       "      <td>2.835271</td>\n",
       "      <td>7.400057</td>\n",
       "      <td>12.843777</td>\n",
       "      <td>3.005387</td>\n",
       "      <td>4.621491</td>\n",
       "      <td>2.608449</td>\n",
       "      <td>4.366317</td>\n",
       "      <td>7.343351</td>\n",
       "      <td>2.750213</td>\n",
       "      <td>3.430678</td>\n",
       "    </tr>\n",
       "  </tbody>\n",
       "</table>\n",
       "<p>213 rows × 19 columns</p>\n",
       "</div>"
      ],
      "text/plain": [
       "     18 and 19 years  20 years  21 years  22 to 24 years  25 to 29 years  \\\n",
       "0           3.320547  1.026932  1.506433        5.050747       12.610885   \n",
       "1           1.472506  0.859298  1.453680        3.863480        9.506072   \n",
       "2          11.940517  3.345467  2.050447        5.229464       14.790291   \n",
       "3           2.447130  0.181269  0.090634        2.326284       21.903323   \n",
       "4           0.854109  1.685134  1.211911        8.737304       25.657895   \n",
       "..               ...       ...       ...             ...             ...   \n",
       "208         2.760978  1.880095  1.136530        3.516230        7.761416   \n",
       "209         2.076449  1.594177  0.397428        3.174958        5.711351   \n",
       "210         1.604114  1.174303  0.813570        2.962622        7.644485   \n",
       "211         1.448866  1.199548  0.329288        3.292878        4.078465   \n",
       "212         1.984690  0.000000  0.000000        7.314999        8.449107   \n",
       "\n",
       "     30 to 34 years  35 to 39 years  40 to 44 years  45 to 49 years  \\\n",
       "0         13.813634        8.247423        7.532167        6.625110   \n",
       "1          7.999946        5.945161        6.070223        6.437341   \n",
       "2         13.411132        6.423881        4.942291        3.361929   \n",
       "3          9.244713        8.157100        4.803625        6.283988   \n",
       "4         17.036011        9.626039        9.533703        4.789935   \n",
       "..              ...             ...             ...             ...   \n",
       "208        6.198323        5.906156        4.280247        5.930990   \n",
       "209        5.488077        8.319193        7.019737        6.689292   \n",
       "210        5.426357        6.592985        4.612787        5.457057   \n",
       "211        6.134161        7.258444        4.468906        6.712767   \n",
       "212        3.345620        3.572441        2.750213        3.600794   \n",
       "\n",
       "     5 to 9 years  50 to 54 years  55 to 59 years  60 and 61 years  \\\n",
       "0        2.665228        6.181571        4.431391         2.924958   \n",
       "1        4.065194        5.856407        6.998104         3.314821   \n",
       "2        1.498052        4.872784        4.618536         1.677306   \n",
       "3        1.601208       12.567976        7.915408         2.024169   \n",
       "4        2.262235        4.593721        3.901200         1.096491   \n",
       "..            ...             ...             ...              ...   \n",
       "208      9.217869        5.666579        6.372162         2.264294   \n",
       "209      7.421631        5.296061        6.675895         1.473609   \n",
       "210      7.045821        7.828690        7.337478         3.315680   \n",
       "211      4.642958        9.055414       10.057390         2.126258   \n",
       "212      2.835271        7.400057       12.843777         3.005387   \n",
       "\n",
       "     62 to 64 years  65 and 66 years  67 to 69 years  70 to 74 years  \\\n",
       "0          3.108767         1.402541        1.530408        2.745145   \n",
       "1          3.398195         3.079488        3.651009        5.175961   \n",
       "2          3.495455         1.605970        2.813192        2.846116   \n",
       "3          6.283988         3.655589        1.238671        1.570997   \n",
       "4          0.011542         0.000000        0.196214        0.588643   \n",
       "..              ...              ...             ...             ...   \n",
       "208        2.498028         2.430829        2.294972        2.781430   \n",
       "209        4.402965         1.960347        2.750737        3.429490   \n",
       "210        5.971295         1.834369        2.502111        4.397882   \n",
       "211        4.544172         2.380280        3.829147        4.435977   \n",
       "212        4.621491         2.608449        4.366317        7.343351   \n",
       "\n",
       "     75 to 79 years  80 to 84 years  \n",
       "0          2.944937        1.554383  \n",
       "1          3.378024        3.910547  \n",
       "2          2.601013        1.300507  \n",
       "3          0.876133        0.000000  \n",
       "4          0.277008        0.000000  \n",
       "..              ...             ...  \n",
       "208        1.887399        1.799749  \n",
       "209        2.232741        2.085380  \n",
       "210        3.584312        1.941822  \n",
       "211        2.784834        2.507291  \n",
       "212        2.750213        3.430678  \n",
       "\n",
       "[213 rows x 19 columns]"
      ]
     },
     "execution_count": 114,
     "metadata": {},
     "output_type": "execute_result"
    }
   ],
   "source": [
    "pct_df = pd.DataFrame(pct_dict)"
   ]
  },
  {
   "cell_type": "code",
   "execution_count": 115,
   "id": "13d16042",
   "metadata": {},
   "outputs": [],
   "source": [
    "pct_df = pd.concat([pct_df, pd.DataFrame(pivoted_age.name)], axis=1)"
   ]
  },
  {
   "cell_type": "code",
   "execution_count": 117,
   "id": "73fbff73",
   "metadata": {},
   "outputs": [],
   "source": [
    "cols = pct_df.columns.tolist()\n",
    "cols = cols[-1:] + cols[:-1]\n",
    "pct_df = pct_df[cols]\n",
    "\n",
    "pct_df.to_csv(\"age_pct_by_zip.csv\")"
   ]
  },
  {
   "cell_type": "code",
   "execution_count": null,
   "id": "7d7bcf47",
   "metadata": {},
   "outputs": [],
   "source": []
  }
 ],
 "metadata": {
  "kernelspec": {
   "display_name": "Python 3 (ipykernel)",
   "language": "python",
   "name": "python3"
  },
  "language_info": {
   "codemirror_mode": {
    "name": "ipython",
    "version": 3
   },
   "file_extension": ".py",
   "mimetype": "text/x-python",
   "name": "python",
   "nbconvert_exporter": "python",
   "pygments_lexer": "ipython3",
   "version": "3.11.0rc2"
  }
 },
 "nbformat": 4,
 "nbformat_minor": 5
}
