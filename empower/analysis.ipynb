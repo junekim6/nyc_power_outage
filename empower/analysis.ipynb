{
 "cells": [
  {
   "cell_type": "markdown",
   "metadata": {},
   "source": [
    "# Regression on medical equip data"
   ]
  },
  {
   "cell_type": "code",
   "execution_count": 1,
   "metadata": {},
   "outputs": [],
   "source": [
    "%load_ext rpy2.ipython\n",
    "%load_ext autoreload\n",
    "%autoreload 2\n",
    "\n",
    "%matplotlib inline  \n",
    "from matplotlib import rcParams\n",
    "rcParams['figure.figsize'] = (16, 100)\n",
    "\n",
    "import warnings\n",
    "from rpy2.rinterface import RRuntimeWarning\n",
    "warnings.filterwarnings(\"ignore\") # Ignore all warnings\n",
    "# warnings.filterwarnings(\"ignore\", category=RRuntimeWarning) # Show some warnings\n",
    "\n",
    "import pandas as pd\n",
    "import numpy as np\n",
    "import matplotlib.pyplot as plt\n",
    "from IPython.display import display, HTML"
   ]
  },
  {
   "cell_type": "code",
   "execution_count": 2,
   "metadata": {},
   "outputs": [
    {
     "data": {
      "application/javascript": "// Disable auto-scrolling\nIPython.OutputArea.prototype._should_scroll = function(lines) {\n    return false;\n}\n",
      "text/plain": [
       "<IPython.core.display.Javascript object>"
      ]
     },
     "metadata": {},
     "output_type": "display_data"
    }
   ],
   "source": [
    "%%javascript\n",
    "// Disable auto-scrolling\n",
    "IPython.OutputArea.prototype._should_scroll = function(lines) {\n",
    "    return false;\n",
    "}"
   ]
  },
  {
   "cell_type": "code",
   "execution_count": 3,
   "metadata": {},
   "outputs": [
    {
     "name": "stderr",
     "output_type": "stream",
     "text": [
      "R[write to console]: Loading required package: ggplot2\n",
      "\n",
      "R[write to console]: Keep up to date with changes at https://www.tidyverse.org/blog/\n",
      "\n",
      "R[write to console]: Loading required package: ggrepel\n",
      "\n",
      "R[write to console]: Loading required package: readr\n",
      "\n",
      "R[write to console]: Loading required package: extrafont\n",
      "\n",
      "R[write to console]: Registering fonts with R\n",
      "\n",
      "R[write to console]: Loading required package: dplyr\n",
      "\n",
      "R[write to console]: \n",
      "Attaching package: ‘dplyr’\n",
      "\n",
      "\n",
      "R[write to console]: The following objects are masked from ‘package:stats’:\n",
      "\n",
      "    filter, lag\n",
      "\n",
      "\n",
      "R[write to console]: The following objects are masked from ‘package:base’:\n",
      "\n",
      "    intersect, setdiff, setequal, union\n",
      "\n",
      "\n",
      "R[write to console]: Loading required package: reshape2\n",
      "\n"
     ]
    }
   ],
   "source": [
    "%%R\n",
    "\n",
    "# My commonly used R imports\n",
    "\n",
    "require('ggplot2')\n",
    "require('ggrepel')\n",
    "require('readr')\n",
    "require('extrafont')\n",
    "require('dplyr')\n",
    "require('reshape2')\n",
    "# require('theme538')"
   ]
  },
  {
   "cell_type": "code",
   "execution_count": 4,
   "metadata": {},
   "outputs": [
    {
     "name": "stdout",
     "output_type": "stream",
     "text": [
      "New names:\n",
      "• `` -> `...1`\n",
      "# A tibble: 178 × 5\n",
      "    ...1 August median_household_income   zip percent_elderly\n",
      "   <dbl>  <dbl>                   <dbl> <dbl>           <dbl>\n",
      " 1     0   2.54                   96787 10001          12.6  \n",
      " 2     1   2.59                   35607 10002          23.7  \n",
      " 3     2   2.69                  129981 10003          12.7  \n",
      " 4     3   2.10                  204949 10004           8.40 \n",
      " 5     4   3.24                  184681 10005           1.06 \n",
      " 6     5   5.07                  185268 10006           0.521\n",
      " 7     6   2.05                  250001 10007           5.60 \n",
      " 8     7   2.61                   68220 10009          14.9  \n",
      " 9     8   2.33                  139188 10010          16.6  \n",
      "10     9   1.83                  136208 10011          16.4  \n",
      "# … with 168 more rows\n",
      "# ℹ Use `print(n = ...)` to see more rows\n"
     ]
    }
   ],
   "source": [
    "%%R \n",
    "\n",
    "# EXAMPLE R CELL\n",
    "df <- read_csv('merged_income_age.csv', show_col_types = FALSE)\n",
    "df"
   ]
  },
  {
   "cell_type": "code",
   "execution_count": 5,
   "metadata": {},
   "outputs": [
    {
     "name": "stderr",
     "output_type": "stream",
     "text": [
      "R[write to console]: Error in geom_text_repel(aes(label = zip)) : \n",
      "  could not find function \"geom_text_repel\"\n",
      "\n",
      "R[write to console]: In addition: \n",
      "R[write to console]: Warning message:\n",
      "\n",
      "R[write to console]: In library(package, lib.loc = lib.loc, character.only = TRUE, logical.return = TRUE,  :\n",
      "R[write to console]: \n",
      " \n",
      "R[write to console]:  there is no package called ‘ggrepel’\n",
      "\n"
     ]
    },
    {
     "name": "stdout",
     "output_type": "stream",
     "text": [
      "\n",
      "Error in geom_text_repel(aes(label = zip)) : \n",
      "  could not find function \"geom_text_repel\"\n"
     ]
    },
    {
     "ename": "RInterpreterError",
     "evalue": "Failed to parse and evaluate line '\\nggplot(df %>% filter(median_household_income < 150000), aes(x=median_household_income, y=August)) + \\n    geom_point(size=4) +\\n    geom_text_repel(aes(label=zip)) + \\n    geom_smooth(method=\\'lm\\') +\\n    scale_color_continuous(low = \"white\", high = \"blue\", limits = c(0, 50)) \\n    \\n'.\nR error message: 'Error in geom_text_repel(aes(label = zip)) : \\n  could not find function \"geom_text_repel\"'",
     "output_type": "error",
     "traceback": [
      "\u001b[0;31m---------------------------------------------------------------------------\u001b[0m",
      "\u001b[0;31mRRuntimeError\u001b[0m                             Traceback (most recent call last)",
      "File \u001b[0;32m~/.pyenv/versions/3.11.0rc2/lib/python3.11/site-packages/rpy2/ipython/rmagic.py:331\u001b[0m, in \u001b[0;36mRMagics.eval\u001b[0;34m(self, code)\u001b[0m\n\u001b[1;32m    329\u001b[0m \u001b[39mtry\u001b[39;00m:\n\u001b[1;32m    330\u001b[0m     \u001b[39m# Need the newline in case the last line in code is a comment.\u001b[39;00m\n\u001b[0;32m--> 331\u001b[0m     value, visible \u001b[39m=\u001b[39m ro\u001b[39m.\u001b[39;49mr(\u001b[39m\"\u001b[39;49m\u001b[39mwithVisible(\u001b[39;49m\u001b[39m{\u001b[39;49m\u001b[39m%s\u001b[39;49;00m\u001b[39m\\n\u001b[39;49;00m\u001b[39m})\u001b[39;49m\u001b[39m\"\u001b[39;49m \u001b[39m%\u001b[39;49m code)\n\u001b[1;32m    332\u001b[0m \u001b[39mexcept\u001b[39;00m (ri\u001b[39m.\u001b[39membedded\u001b[39m.\u001b[39mRRuntimeError, \u001b[39mValueError\u001b[39;00m) \u001b[39mas\u001b[39;00m exception:\n\u001b[1;32m    333\u001b[0m     \u001b[39m# Otherwise next return seems to have copy of error.\u001b[39;00m\n",
      "File \u001b[0;32m~/.pyenv/versions/3.11.0rc2/lib/python3.11/site-packages/rpy2/robjects/__init__.py:459\u001b[0m, in \u001b[0;36mR.__call__\u001b[0;34m(self, string)\u001b[0m\n\u001b[1;32m    458\u001b[0m p \u001b[39m=\u001b[39m rinterface\u001b[39m.\u001b[39mparse(string)\n\u001b[0;32m--> 459\u001b[0m res \u001b[39m=\u001b[39m \u001b[39mself\u001b[39;49m\u001b[39m.\u001b[39;49meval(p)\n\u001b[1;32m    460\u001b[0m \u001b[39mreturn\u001b[39;00m conversion\u001b[39m.\u001b[39mget_conversion()\u001b[39m.\u001b[39mrpy2py(res)\n",
      "File \u001b[0;32m~/.pyenv/versions/3.11.0rc2/lib/python3.11/site-packages/rpy2/robjects/functions.py:204\u001b[0m, in \u001b[0;36mSignatureTranslatedFunction.__call__\u001b[0;34m(self, *args, **kwargs)\u001b[0m\n\u001b[1;32m    203\u001b[0m         kwargs[r_k] \u001b[39m=\u001b[39m v\n\u001b[0;32m--> 204\u001b[0m \u001b[39mreturn\u001b[39;00m (\u001b[39msuper\u001b[39;49m(SignatureTranslatedFunction, \u001b[39mself\u001b[39;49m)\n\u001b[1;32m    205\u001b[0m         \u001b[39m.\u001b[39;49m\u001b[39m__call__\u001b[39;49m(\u001b[39m*\u001b[39;49margs, \u001b[39m*\u001b[39;49m\u001b[39m*\u001b[39;49mkwargs))\n",
      "File \u001b[0;32m~/.pyenv/versions/3.11.0rc2/lib/python3.11/site-packages/rpy2/robjects/functions.py:127\u001b[0m, in \u001b[0;36mFunction.__call__\u001b[0;34m(self, *args, **kwargs)\u001b[0m\n\u001b[1;32m    126\u001b[0m         new_kwargs[k] \u001b[39m=\u001b[39m cv\u001b[39m.\u001b[39mpy2rpy(v)\n\u001b[0;32m--> 127\u001b[0m res \u001b[39m=\u001b[39m \u001b[39msuper\u001b[39;49m(Function, \u001b[39mself\u001b[39;49m)\u001b[39m.\u001b[39;49m\u001b[39m__call__\u001b[39;49m(\u001b[39m*\u001b[39;49mnew_args, \u001b[39m*\u001b[39;49m\u001b[39m*\u001b[39;49mnew_kwargs)\n\u001b[1;32m    128\u001b[0m res \u001b[39m=\u001b[39m cv\u001b[39m.\u001b[39mrpy2py(res)\n",
      "File \u001b[0;32m~/.pyenv/versions/3.11.0rc2/lib/python3.11/site-packages/rpy2/rinterface_lib/conversion.py:45\u001b[0m, in \u001b[0;36m_cdata_res_to_rinterface.<locals>._\u001b[0;34m(*args, **kwargs)\u001b[0m\n\u001b[1;32m     44\u001b[0m \u001b[39mdef\u001b[39;00m \u001b[39m_\u001b[39m(\u001b[39m*\u001b[39margs, \u001b[39m*\u001b[39m\u001b[39m*\u001b[39mkwargs):\n\u001b[0;32m---> 45\u001b[0m     cdata \u001b[39m=\u001b[39m function(\u001b[39m*\u001b[39;49margs, \u001b[39m*\u001b[39;49m\u001b[39m*\u001b[39;49mkwargs)\n\u001b[1;32m     46\u001b[0m     \u001b[39m# TODO: test cdata is of the expected CType\u001b[39;00m\n",
      "File \u001b[0;32m~/.pyenv/versions/3.11.0rc2/lib/python3.11/site-packages/rpy2/rinterface.py:815\u001b[0m, in \u001b[0;36mSexpClosure.__call__\u001b[0;34m(self, *args, **kwargs)\u001b[0m\n\u001b[1;32m    814\u001b[0m     \u001b[39mif\u001b[39;00m error_occured[\u001b[39m0\u001b[39m]:\n\u001b[0;32m--> 815\u001b[0m         \u001b[39mraise\u001b[39;00m embedded\u001b[39m.\u001b[39mRRuntimeError(_rinterface\u001b[39m.\u001b[39m_geterrmessage())\n\u001b[1;32m    816\u001b[0m \u001b[39mreturn\u001b[39;00m res\n",
      "\u001b[0;31mRRuntimeError\u001b[0m: Error in geom_text_repel(aes(label = zip)) : \n  could not find function \"geom_text_repel\"\n",
      "\nDuring handling of the above exception, another exception occurred:\n",
      "\u001b[0;31mRInterpreterError\u001b[0m                         Traceback (most recent call last)",
      "Cell \u001b[0;32mIn [5], line 1\u001b[0m\n\u001b[0;32m----> 1\u001b[0m get_ipython()\u001b[39m.\u001b[39;49mrun_cell_magic(\u001b[39m'\u001b[39;49m\u001b[39mR\u001b[39;49m\u001b[39m'\u001b[39;49m, \u001b[39m'\u001b[39;49m\u001b[39m-w 1000\u001b[39;49m\u001b[39m'\u001b[39;49m, \u001b[39m'\u001b[39;49m\u001b[39m\\n\u001b[39;49;00m\u001b[39mggplot(df \u001b[39;49m\u001b[39m%\u001b[39;49m\u001b[39m>\u001b[39;49m\u001b[39m% f\u001b[39;49;00m\u001b[39milter(median_household_income < 150000), aes(x=median_household_income, y=August)) + \u001b[39;49m\u001b[39m\\n\u001b[39;49;00m\u001b[39m    geom_point(size=4) +\u001b[39;49m\u001b[39m\\n\u001b[39;49;00m\u001b[39m    geom_text_repel(aes(label=zip)) + \u001b[39;49m\u001b[39m\\n\u001b[39;49;00m\u001b[39m    geom_smooth(method=\u001b[39;49m\u001b[39m\\'\u001b[39;49;00m\u001b[39mlm\u001b[39;49m\u001b[39m\\'\u001b[39;49;00m\u001b[39m) +\u001b[39;49m\u001b[39m\\n\u001b[39;49;00m\u001b[39m    scale_color_continuous(low = \u001b[39;49m\u001b[39m\"\u001b[39;49m\u001b[39mwhite\u001b[39;49m\u001b[39m\"\u001b[39;49m\u001b[39m, high = \u001b[39;49m\u001b[39m\"\u001b[39;49m\u001b[39mblue\u001b[39;49m\u001b[39m\"\u001b[39;49m\u001b[39m, limits = c(0, 50)) \u001b[39;49m\u001b[39m\\n\u001b[39;49;00m\u001b[39m    \u001b[39;49m\u001b[39m\\n\u001b[39;49;00m\u001b[39m'\u001b[39;49m)\n",
      "File \u001b[0;32m~/.pyenv/versions/3.11.0rc2/lib/python3.11/site-packages/IPython/core/interactiveshell.py:2417\u001b[0m, in \u001b[0;36mInteractiveShell.run_cell_magic\u001b[0;34m(self, magic_name, line, cell)\u001b[0m\n\u001b[1;32m   2415\u001b[0m \u001b[39mwith\u001b[39;00m \u001b[39mself\u001b[39m\u001b[39m.\u001b[39mbuiltin_trap:\n\u001b[1;32m   2416\u001b[0m     args \u001b[39m=\u001b[39m (magic_arg_s, cell)\n\u001b[0;32m-> 2417\u001b[0m     result \u001b[39m=\u001b[39m fn(\u001b[39m*\u001b[39;49margs, \u001b[39m*\u001b[39;49m\u001b[39m*\u001b[39;49mkwargs)\n\u001b[1;32m   2418\u001b[0m \u001b[39mreturn\u001b[39;00m result\n",
      "File \u001b[0;32m~/.pyenv/versions/3.11.0rc2/lib/python3.11/site-packages/rpy2/ipython/rmagic.py:868\u001b[0m, in \u001b[0;36mRMagics.R\u001b[0;34m(self, line, cell, local_ns)\u001b[0m\n\u001b[1;32m    866\u001b[0m     \u001b[39mif\u001b[39;00m \u001b[39mnot\u001b[39;00m e\u001b[39m.\u001b[39mstdout\u001b[39m.\u001b[39mendswith(e\u001b[39m.\u001b[39merr):\n\u001b[1;32m    867\u001b[0m         \u001b[39mprint\u001b[39m(e\u001b[39m.\u001b[39merr)\n\u001b[0;32m--> 868\u001b[0m     \u001b[39mraise\u001b[39;00m e\n\u001b[1;32m    869\u001b[0m \u001b[39mfinally\u001b[39;00m:\n\u001b[1;32m    870\u001b[0m     \u001b[39mif\u001b[39;00m \u001b[39mself\u001b[39m\u001b[39m.\u001b[39mdevice \u001b[39min\u001b[39;00m [\u001b[39m'\u001b[39m\u001b[39mpng\u001b[39m\u001b[39m'\u001b[39m, \u001b[39m'\u001b[39m\u001b[39msvg\u001b[39m\u001b[39m'\u001b[39m]:\n",
      "File \u001b[0;32m~/.pyenv/versions/3.11.0rc2/lib/python3.11/site-packages/rpy2/ipython/rmagic.py:848\u001b[0m, in \u001b[0;36mRMagics.R\u001b[0;34m(self, line, cell, local_ns)\u001b[0m\n\u001b[1;32m    846\u001b[0m         return_output \u001b[39m=\u001b[39m \u001b[39mFalse\u001b[39;00m\n\u001b[1;32m    847\u001b[0m \u001b[39melse\u001b[39;00m:\n\u001b[0;32m--> 848\u001b[0m     text_result, result, visible \u001b[39m=\u001b[39m \u001b[39mself\u001b[39;49m\u001b[39m.\u001b[39;49meval(code)\n\u001b[1;32m    849\u001b[0m     text_output \u001b[39m+\u001b[39m\u001b[39m=\u001b[39m text_result\n\u001b[1;32m    850\u001b[0m     \u001b[39mif\u001b[39;00m visible:\n",
      "File \u001b[0;32m~/.pyenv/versions/3.11.0rc2/lib/python3.11/site-packages/rpy2/ipython/rmagic.py:335\u001b[0m, in \u001b[0;36mRMagics.eval\u001b[0;34m(self, code)\u001b[0m\n\u001b[1;32m    332\u001b[0m \u001b[39mexcept\u001b[39;00m (ri\u001b[39m.\u001b[39membedded\u001b[39m.\u001b[39mRRuntimeError, \u001b[39mValueError\u001b[39;00m) \u001b[39mas\u001b[39;00m exception:\n\u001b[1;32m    333\u001b[0m     \u001b[39m# Otherwise next return seems to have copy of error.\u001b[39;00m\n\u001b[1;32m    334\u001b[0m     warning_or_other_msg \u001b[39m=\u001b[39m \u001b[39mself\u001b[39m\u001b[39m.\u001b[39mflush()\n\u001b[0;32m--> 335\u001b[0m     \u001b[39mraise\u001b[39;00m RInterpreterError(code, \u001b[39mstr\u001b[39m(exception),\n\u001b[1;32m    336\u001b[0m                             warning_or_other_msg)\n\u001b[1;32m    337\u001b[0m text_output \u001b[39m=\u001b[39m \u001b[39mself\u001b[39m\u001b[39m.\u001b[39mflush()\n\u001b[1;32m    338\u001b[0m \u001b[39mreturn\u001b[39;00m text_output, value, visible[\u001b[39m0\u001b[39m]\n",
      "\u001b[0;31mRInterpreterError\u001b[0m: Failed to parse and evaluate line '\\nggplot(df %>% filter(median_household_income < 150000), aes(x=median_household_income, y=August)) + \\n    geom_point(size=4) +\\n    geom_text_repel(aes(label=zip)) + \\n    geom_smooth(method=\\'lm\\') +\\n    scale_color_continuous(low = \"white\", high = \"blue\", limits = c(0, 50)) \\n    \\n'.\nR error message: 'Error in geom_text_repel(aes(label = zip)) : \\n  could not find function \"geom_text_repel\"'"
     ]
    }
   ],
   "source": [
    "%%R -w 1000\n",
    "\n",
    "ggplot(df %>% filter(median_household_income < 150000), aes(x=median_household_income, y=August)) + \n",
    "    geom_point(size=4) +\n",
    "    geom_text_repel(aes(label=zip)) + \n",
    "    geom_smooth(method='lm') +\n",
    "    scale_color_continuous(low = \"white\", high = \"blue\", limits = c(0, 50)) \n",
    "    "
   ]
  },
  {
   "cell_type": "code",
   "execution_count": null,
   "metadata": {},
   "outputs": [
    {
     "name": "stderr",
     "output_type": "stream",
     "text": [
      "R[write to console]: `geom_smooth()` using formula 'y ~ x'\n",
      "\n"
     ]
    },
    {
     "data": {
      "image/png": "[encoded data removed]"
     },
     "metadata": {},
     "output_type": "display_data"
    }
   ],
   "source": [
    "%%R -w 1000\n",
    "\n",
    "ggplot(df%>% filter(zip!=11005), aes(x=percent_elderly , y=August)) + \n",
    "    geom_point(size=4) +\n",
    "    geom_text_repel(aes(label=zip)) + \n",
    "    geom_smooth(method='lm') +\n",
    "    scale_color_continuous(low = \"white\", high = \"blue\", limits = c(0, 50)) \n",
    "    "
   ]
  },
  {
   "cell_type": "code",
   "execution_count": null,
   "metadata": {},
   "outputs": [
    {
     "name": "stdout",
     "output_type": "stream",
     "text": [
      "\n",
      "Call:\n",
      "lm(formula = August ~ percent_elderly, data = df)\n",
      "\n",
      "Residuals:\n",
      "     Min       1Q   Median       3Q      Max \n",
      "-1.21583 -0.35074 -0.06732  0.30943  2.36217 \n",
      "\n",
      "Coefficients:\n",
      "                 Estimate Std. Error t value Pr(>|t|)    \n",
      "(Intercept)      2.704388   0.097823  27.646   <2e-16 ***\n",
      "percent_elderly -0.001712   0.005597  -0.306     0.76    \n",
      "---\n",
      "Signif. codes:  0 ‘***’ 0.001 ‘**’ 0.01 ‘*’ 0.05 ‘.’ 0.1 ‘ ’ 1\n",
      "\n",
      "Residual standard error: 0.5819 on 176 degrees of freedom\n",
      "Multiple R-squared:  0.000531,\tAdjusted R-squared:  -0.005148 \n",
      "F-statistic: 0.09351 on 1 and 176 DF,  p-value: 0.7601\n",
      "\n"
     ]
    }
   ],
   "source": [
    "%%R\n",
    "\n",
    "summary(lm(August ~ percent_elderly, df))"
   ]
  },
  {
   "cell_type": "code",
   "execution_count": 6,
   "metadata": {},
   "outputs": [
    {
     "name": "stdout",
     "output_type": "stream",
     "text": [
      "\n",
      "Call:\n",
      "lm(formula = August ~ median_household_income, data = df)\n",
      "\n",
      "Residuals:\n",
      "    Min      1Q  Median      3Q     Max \n",
      "-1.0410 -0.3280 -0.0891  0.2465  2.7812 \n",
      "\n",
      "Coefficients:\n",
      "                          Estimate Std. Error t value Pr(>|t|)    \n",
      "(Intercept)              2.984e+00  9.873e-02  30.224  < 2e-16 ***\n",
      "median_household_income -3.775e-06  1.100e-06  -3.432 0.000746 ***\n",
      "---\n",
      "Signif. codes:  0 ‘***’ 0.001 ‘**’ 0.01 ‘*’ 0.05 ‘.’ 0.1 ‘ ’ 1\n",
      "\n",
      "Residual standard error: 0.5635 on 176 degrees of freedom\n",
      "Multiple R-squared:  0.06273,\tAdjusted R-squared:  0.0574 \n",
      "F-statistic: 11.78 on 1 and 176 DF,  p-value: 0.0007465\n",
      "\n"
     ]
    }
   ],
   "source": [
    "%%R\n",
    "\n",
    "summary(lm(August ~ median_household_income, df))"
   ]
  },
  {
   "cell_type": "code",
   "execution_count": 7,
   "metadata": {},
   "outputs": [
    {
     "name": "stdout",
     "output_type": "stream",
     "text": [
      "New names:\n",
      "• `` -> `...1`\n",
      "\n",
      "Call:\n",
      "lm(formula = August ~ pct_below_poverty, data = df_poverty)\n",
      "\n",
      "Residuals:\n",
      "     Min       1Q   Median       3Q      Max \n",
      "-0.97772 -0.35621 -0.09979  0.25843  2.71498 \n",
      "\n",
      "Coefficients:\n",
      "                  Estimate Std. Error t value Pr(>|t|)    \n",
      "(Intercept)       2.267410   0.075163  30.167  < 2e-16 ***\n",
      "pct_below_poverty 0.024783   0.004055   6.112 5.96e-09 ***\n",
      "---\n",
      "Signif. codes:  0 ‘***’ 0.001 ‘**’ 0.01 ‘*’ 0.05 ‘.’ 0.1 ‘ ’ 1\n",
      "\n",
      "Residual standard error: 0.5188 on 180 degrees of freedom\n",
      "Multiple R-squared:  0.1719,\tAdjusted R-squared:  0.1673 \n",
      "F-statistic: 37.35 on 1 and 180 DF,  p-value: 5.956e-09\n",
      "\n"
     ]
    }
   ],
   "source": [
    "%%R\n",
    "\n",
    "# EXAMPLE R CELL\n",
    "df_poverty <- read_csv('poverty_dme.csv', show_col_types = FALSE)\n",
    "df_poverty\n",
    "\n",
    "summary(lm(August ~ pct_below_poverty, df_poverty))"
   ]
  },
  {
   "cell_type": "code",
   "execution_count": null,
   "metadata": {},
   "outputs": [
    {
     "name": "stdout",
     "output_type": "stream",
     "text": [
      "\n",
      "Call:\n",
      "lm(formula = August ~ median_household_income, data = df %>% \n",
      "    filter(median_household_income < 150000))\n",
      "\n",
      "Residuals:\n",
      "     Min       1Q   Median       3Q      Max \n",
      "-0.96880 -0.30204 -0.04636  0.25710  1.58206 \n",
      "\n",
      "Coefficients:\n",
      "                          Estimate Std. Error t value Pr(>|t|)    \n",
      "(Intercept)              3.359e+00  1.018e-01  33.000  < 2e-16 ***\n",
      "median_household_income -9.237e-06  1.255e-06  -7.358  7.9e-12 ***\n",
      "---\n",
      "Signif. codes:  0 ‘***’ 0.001 ‘**’ 0.01 ‘*’ 0.05 ‘.’ 0.1 ‘ ’ 1\n",
      "\n",
      "Residual standard error: 0.4742 on 168 degrees of freedom\n",
      "Multiple R-squared:  0.2437,\tAdjusted R-squared:  0.2392 \n",
      "F-statistic: 54.14 on 1 and 168 DF,  p-value: 7.901e-12\n",
      "\n"
     ]
    }
   ],
   "source": [
    "%%R\n",
    "# What's up with the outliers?\n",
    "summary(lm(August ~ median_household_income, df %>% filter(median_household_income < 150000)))\n"
   ]
  },
  {
   "cell_type": "code",
   "execution_count": null,
   "metadata": {},
   "outputs": [
    {
     "data": {
      "application/vnd.plotly.v1+json": {
       "config": {
        "plotlyServerURL": "https://plot.ly"
       },
       "data": [
        {
         "hovertemplate": "median_household_income=%{x}<br>percent_elderly=%{y}<br>August=%{z}<extra></extra>",
         "legendgroup": "",
         "marker": {
          "color": "#636efa",
          "symbol": "circle"
         },
         "mode": "markers",
         "name": "",
         "scene": "scene",
         "showlegend": false,
         "type": "scatter3d",
         "x": [
          96787,
          35607,
          129981,
          204949,
          184681,
          185268,
          250001,
          68220,
          139188,
          136208,
          110490,
          130675,
          136154,
          124647,
          130417,
          136360,
          101651,
          130968,
          138661,
          137347,
          137126,
          99067,
          64716,
          57010,
          131013,
          33801,
          45555,
          55721,
          53690,
          66902,
          63556,
          28408,
          97720,
          50686,
          95640,
          41363,
          53199,
          112658,
          153002,
          130556,
          123854,
          117926,
          170385,
          250001,
          70065,
          72394,
          70315,
          64394,
          77136,
          83309,
          108808,
          110478,
          102730,
          86895,
          96785,
          90306,
          32598,
          31351,
          31778,
          23337,
          29439,
          31645,
          32378,
          37886,
          31896,
          28831,
          60802,
          57266,
          60397,
          101935,
          74889,
          58405,
          40639,
          37777,
          67190,
          64643,
          93657,
          36038,
          47856,
          28419,
          53819,
          97845,
          89525,
          81462,
          81677,
          75772,
          86516,
          71865,
          169425,
          139697,
          57707,
          54984,
          62952,
          43065,
          42276,
          45946,
          79524,
          70776,
          90871,
          29385,
          48318,
          57639,
          144330,
          77343,
          122598,
          78249,
          41907,
          55119,
          65548,
          96435,
          56908,
          35776,
          65200,
          60896,
          76278,
          66332,
          57770,
          108525,
          74072,
          48278,
          84116,
          56308,
          74015,
          57375,
          100568,
          29571,
          45838,
          45527,
          64324,
          82858,
          70777,
          84356,
          86545,
          92212,
          111094,
          87135,
          70102,
          91795,
          64332,
          56904,
          61860,
          67582,
          61239,
          56835,
          75266,
          88117,
          59910,
          82326,
          89700,
          77044,
          104269,
          85235,
          91836,
          75599,
          75476,
          73471,
          79210,
          73856,
          79589,
          85190,
          77738,
          93397,
          70990,
          102770,
          81688,
          77466,
          82532,
          66270,
          62453,
          65845,
          69873,
          72962,
          52605,
          53077,
          52946,
          87755,
          116205
         ],
         "y": [
          12.642851434508112,
          23.736266691768755,
          12.664849737520807,
          8.3987915407855,
          1.061865189289012,
          0.5214723926380368,
          5.604017975151996,
          14.860898965108897,
          16.623996778183702,
          16.435056143983434,
          14.543717982113398,
          17.447744006699935,
          16.456262254480407,
          14.77358633202298,
          22.21599751011516,
          10.141364474492931,
          17.244788119768895,
          24.611270205665868,
          28.22258820548553,
          22.700392106447257,
          20.35938992654083,
          20.373906816258327,
          10.77381410997252,
          11.053948832035594,
          19.84279221049998,
          15.296782234611417,
          12.308039747064138,
          11.031851360318512,
          15.876829001965495,
          12.592074751057154,
          12.844299239262634,
          13.478742668720775,
          13.495802486628175,
          18.251029879543204,
          16.47180334641603,
          10.291620524178663,
          17.959156581189017,
          19.882537196554424,
          20.073173143478687,
          9.28659286592866,
          28.427249789739275,
          18.81433966168331,
          8.087921468203158,
          4.436411436082813,
          16.16799557906371,
          10.751309775944708,
          10.84523634221764,
          14.378278309163838,
          17.336157140197354,
          18.426672557899774,
          13.864345977546003,
          17.290059167502854,
          16.403115411848006,
          13.985435286329029,
          17.035376509474098,
          18.17140696924548,
          12.848269024543228,
          9.99206765350435,
          8.867838393060946,
          8.963948475150104,
          8.635235732009926,
          9.336973220305264,
          8.991818315724636,
          8.657282898489981,
          10.249839846252405,
          11.736272907466008,
          16.44642822184374,
          13.051258599435318,
          20.218976023691557,
          20.61545580749653,
          16.094172990724715,
          14.381567117111071,
          11.187008635133392,
          11.513366675975528,
          18.337698139214336,
          16.245161290322578,
          28.276564645435617,
          12.299048375472502,
          16.118536904422495,
          8.169962863805164,
          24.8909593295426,
          22.95221285219324,
          7.480714263761255,
          13.124581261680596,
          10.412490471216016,
          13.128569716819108,
          12.94990921713126,
          13.98608939451124,
          5.092214787008324,
          11.98493780672243,
          17.957442420961733,
          14.506856540084389,
          7.913759244557724,
          9.709014943092958,
          13.245732774274488,
          10.707812834954105,
          17.667622279428976,
          15.603223170946606,
          8.839815992578496,
          14.340127233680455,
          13.178593689709418,
          16.942194485017485,
          10.979355668262018,
          11.09842698138231,
          10.875862556228068,
          12.28711790393013,
          11.827540655035758,
          12.712752462578733,
          10.282536047299663,
          11.130482157450285,
          15.911801242236026,
          28.83497488319038,
          14.88621772007419,
          11.713656936428183,
          19.155385386754183,
          19.836647987400653,
          16.36693122906822,
          9.241718700391576,
          7.761971246368063,
          11.51185523083864,
          18.82773425397247,
          24.336657089741426,
          14.767104158023091,
          8.122380911656546,
          12.358898043628182,
          30.96945137157107,
          21.695860633034705,
          19.45598466038988,
          14.273306311522871,
          23.50815095468368,
          18.336288013091504,
          28.170654245183144,
          20.865024008972696,
          24.617524339360223,
          23.807433421129645,
          19.94089109463001,
          17.46855705465356,
          17.775887731235382,
          17.891930943424427,
          9.294042940889556,
          16.80513472127195,
          13.580330995028264,
          14.396184258481624,
          13.334369656458884,
          19.197183424825703,
          19.70942642704676,
          16.534789870886723,
          12.481746214741372,
          19.190047644256214,
          10.898357533920494,
          19.85053485077908,
          14.544449416905785,
          16.307103563740732,
          24.356750505926566,
          15.44627383015598,
          13.033311611147315,
          13.275131595840287,
          13.24005734614772,
          15.280992597226568,
          12.535437735370031,
          12.863771624552378,
          14.54584273775392,
          17.621563050250575,
          20.15132034417961,
          21.27430666241632,
          20.61018658598084,
          18.21777905638665,
          15.74779876170623,
          13.192883641582496,
          15.288384725994568,
          12.841796875,
          13.220786072276445,
          13.283372775878693,
          14.177904795927482,
          16.156266789469647,
          18.3460344340954,
          22.42699177771477
         ],
         "z": [
          2.544366046611076,
          2.5865267398102505,
          2.692047758504168,
          2.098765432098765,
          3.2448377581120944,
          5.065666041275797,
          2.045209903121636,
          2.6088537405690397,
          2.32508073196986,
          1.825340014316392,
          1.8158236057068744,
          1.8329938900203664,
          1.5411330583894074,
          2.328711805088168,
          1.450536698578474,
          2.158730158730159,
          2.2004889975550124,
          1.8229166666666667,
          1.7043202536662705,
          1.822444041137326,
          2.151483643925458,
          2.399715288016676,
          3.1057178116001647,
          2.895685544830794,
          1.8855065879145845,
          4.061296897410735,
          3.013421119270701,
          2.660064486411792,
          3.2007487131492747,
          2.637294446168166,
          2.5451916124367315,
          3.9986559139784954,
          2.0536100302637266,
          3.552769070010449,
          2.478492421138877,
          3.467643467643468,
          2.424084451974456,
          2.483343428225318,
          2.101730837160014,
          1.7684887459807077,
          1.6643550624133148,
          1.9188395152405435,
          2.503128911138924,
          3.333333333333333,
          2.556580050293378,
          3.5740072202166067,
          3.113156469951272,
          2.653444116858751,
          2.7402177815005384,
          3.006894260320625,
          2.9079159935379644,
          3.244052570287806,
          3.1274680145316696,
          2.550767706785537,
          3.105781057810578,
          2.732939997773572,
          2.7801592161665645,
          2.8495627395106613,
          2.909878519634617,
          4.198121892837415,
          3.274021352313168,
          3.0007629058235143,
          2.881693387823536,
          2.812969722997638,
          2.820733104238259,
          3.0967586456199543,
          2.611709369971531,
          2.345305062743401,
          2.2902412675549155,
          2.345058626465661,
          2.7325959661678594,
          2.3610828414410747,
          2.504886700933903,
          2.485809356038364,
          2.2469806197921542,
          3.046974185357596,
          1.9663452448477967,
          2.445557237684872,
          2.8226572894886903,
          2.976190476190476,
          2.187889837827464,
          2.2016592214422466,
          2.5342118601115056,
          2.706970448905933,
          2.041742286751361,
          1.853281853281853,
          3.0795390137918006,
          2.9523967490462764,
          4.119850187265917,
          2.408500590318772,
          2.1506982301545814,
          2.5426456388799488,
          2.935606060606061,
          3.411998862667045,
          3.247381144238517,
          2.6748614958448758,
          2.9656648957259537,
          2.5608320251177394,
          3.333333333333333,
          2.9902642559109878,
          2.8293241695303557,
          3.0140201346427027,
          2.285564166557205,
          3.252710592160134,
          3.108400550855793,
          2.892517878108656,
          2.720535068691251,
          2.1544245228455754,
          3.247116784234688,
          2.2909777987718467,
          3.3593281343731256,
          4.101960784313725,
          2.4563006969039187,
          2.55420054200542,
          2.978056426332288,
          2.823151125401929,
          3.578932116206622,
          2.9876123390818554,
          2.6523297491039424,
          2.7886160201973835,
          2.664032567049808,
          3.7224240509661457,
          2.340752110514198,
          3.0101159634838397,
          3.112494441974211,
          4.667795972143798,
          2.290876825038316,
          1.9695561236346733,
          2.026160553988202,
          2.516309412861137,
          2.077230359520639,
          2.975698462555794,
          2.1777620396600565,
          2.543899144529491,
          1.7744705208929592,
          2.1110831867303346,
          1.985645933014354,
          2.524735585124531,
          2.426090414954262,
          2.8130422869668466,
          2.164239482200647,
          2.293577981651376,
          1.9245212166729253,
          1.9301731478853248,
          2.6350866400082027,
          2.542600295183148,
          2.132625140833736,
          2.6534296028880866,
          2.525322603024837,
          2.460741460255788,
          2.499393351128367,
          2.914389799635701,
          2.646720368239356,
          3.640625,
          2.665876777251185,
          2.377622377622377,
          2.469135802469136,
          2.6366149266425687,
          2.5804289544235925,
          2.7001716872171064,
          2.365819209039548,
          2.6504583499402155,
          2.494331065759637,
          2.327514546965918,
          2.510460251046025,
          2.547065337763012,
          2.547914317925592,
          2.1251726702794604,
          3.2643957826439576,
          2.8938325194429373,
          2.44151859900294,
          2.7562111801242235,
          3.3437720981917365,
          3.260146373918829,
          2.8944150020383206,
          2.412038061518035,
          3.4057971014492754
         ]
        }
       ],
       "layout": {
        "legend": {
         "tracegroupgap": 0
        },
        "margin": {
         "t": 60
        },
        "scene": {
         "domain": {
          "x": [
           0,
           1
          ],
          "y": [
           0,
           1
          ]
         },
         "xaxis": {
          "title": {
           "text": "median_household_income"
          }
         },
         "yaxis": {
          "title": {
           "text": "percent_elderly"
          }
         },
         "zaxis": {
          "title": {
           "text": "August"
          }
         }
        },
        "template": {
         "data": {
          "bar": [
           {
            "error_x": {
             "color": "#2a3f5f"
            },
            "error_y": {
             "color": "#2a3f5f"
            },
            "marker": {
             "line": {
              "color": "#E5ECF6",
              "width": 0.5
             },
             "pattern": {
              "fillmode": "overlay",
              "size": 10,
              "solidity": 0.2
             }
            },
            "type": "bar"
           }
          ],
          "barpolar": [
           {
            "marker": {
             "line": {
              "color": "#E5ECF6",
              "width": 0.5
             },
             "pattern": {
              "fillmode": "overlay",
              "size": 10,
              "solidity": 0.2
             }
            },
            "type": "barpolar"
           }
          ],
          "carpet": [
           {
            "aaxis": {
             "endlinecolor": "#2a3f5f",
             "gridcolor": "white",
             "linecolor": "white",
             "minorgridcolor": "white",
             "startlinecolor": "#2a3f5f"
            },
            "baxis": {
             "endlinecolor": "#2a3f5f",
             "gridcolor": "white",
             "linecolor": "white",
             "minorgridcolor": "white",
             "startlinecolor": "#2a3f5f"
            },
            "type": "carpet"
           }
          ],
          "choropleth": [
           {
            "colorbar": {
             "outlinewidth": 0,
             "ticks": ""
            },
            "type": "choropleth"
           }
          ],
          "contour": [
           {
            "colorbar": {
             "outlinewidth": 0,
             "ticks": ""
            },
            "colorscale": [
             [
              0,
              "#0d0887"
             ],
             [
              0.1111111111111111,
              "#46039f"
             ],
             [
              0.2222222222222222,
              "#7201a8"
             ],
             [
              0.3333333333333333,
              "#9c179e"
             ],
             [
              0.4444444444444444,
              "#bd3786"
             ],
             [
              0.5555555555555556,
              "#d8576b"
             ],
             [
              0.6666666666666666,
              "#ed7953"
             ],
             [
              0.7777777777777778,
              "#fb9f3a"
             ],
             [
              0.8888888888888888,
              "#fdca26"
             ],
             [
              1,
              "#f0f921"
             ]
            ],
            "type": "contour"
           }
          ],
          "contourcarpet": [
           {
            "colorbar": {
             "outlinewidth": 0,
             "ticks": ""
            },
            "type": "contourcarpet"
           }
          ],
          "heatmap": [
           {
            "colorbar": {
             "outlinewidth": 0,
             "ticks": ""
            },
            "colorscale": [
             [
              0,
              "#0d0887"
             ],
             [
              0.1111111111111111,
              "#46039f"
             ],
             [
              0.2222222222222222,
              "#7201a8"
             ],
             [
              0.3333333333333333,
              "#9c179e"
             ],
             [
              0.4444444444444444,
              "#bd3786"
             ],
             [
              0.5555555555555556,
              "#d8576b"
             ],
             [
              0.6666666666666666,
              "#ed7953"
             ],
             [
              0.7777777777777778,
              "#fb9f3a"
             ],
             [
              0.8888888888888888,
              "#fdca26"
             ],
             [
              1,
              "#f0f921"
             ]
            ],
            "type": "heatmap"
           }
          ],
          "heatmapgl": [
           {
            "colorbar": {
             "outlinewidth": 0,
             "ticks": ""
            },
            "colorscale": [
             [
              0,
              "#0d0887"
             ],
             [
              0.1111111111111111,
              "#46039f"
             ],
             [
              0.2222222222222222,
              "#7201a8"
             ],
             [
              0.3333333333333333,
              "#9c179e"
             ],
             [
              0.4444444444444444,
              "#bd3786"
             ],
             [
              0.5555555555555556,
              "#d8576b"
             ],
             [
              0.6666666666666666,
              "#ed7953"
             ],
             [
              0.7777777777777778,
              "#fb9f3a"
             ],
             [
              0.8888888888888888,
              "#fdca26"
             ],
             [
              1,
              "#f0f921"
             ]
            ],
            "type": "heatmapgl"
           }
          ],
          "histogram": [
           {
            "marker": {
             "pattern": {
              "fillmode": "overlay",
              "size": 10,
              "solidity": 0.2
             }
            },
            "type": "histogram"
           }
          ],
          "histogram2d": [
           {
            "colorbar": {
             "outlinewidth": 0,
             "ticks": ""
            },
            "colorscale": [
             [
              0,
              "#0d0887"
             ],
             [
              0.1111111111111111,
              "#46039f"
             ],
             [
              0.2222222222222222,
              "#7201a8"
             ],
             [
              0.3333333333333333,
              "#9c179e"
             ],
             [
              0.4444444444444444,
              "#bd3786"
             ],
             [
              0.5555555555555556,
              "#d8576b"
             ],
             [
              0.6666666666666666,
              "#ed7953"
             ],
             [
              0.7777777777777778,
              "#fb9f3a"
             ],
             [
              0.8888888888888888,
              "#fdca26"
             ],
             [
              1,
              "#f0f921"
             ]
            ],
            "type": "histogram2d"
           }
          ],
          "histogram2dcontour": [
           {
            "colorbar": {
             "outlinewidth": 0,
             "ticks": ""
            },
            "colorscale": [
             [
              0,
              "#0d0887"
             ],
             [
              0.1111111111111111,
              "#46039f"
             ],
             [
              0.2222222222222222,
              "#7201a8"
             ],
             [
              0.3333333333333333,
              "#9c179e"
             ],
             [
              0.4444444444444444,
              "#bd3786"
             ],
             [
              0.5555555555555556,
              "#d8576b"
             ],
             [
              0.6666666666666666,
              "#ed7953"
             ],
             [
              0.7777777777777778,
              "#fb9f3a"
             ],
             [
              0.8888888888888888,
              "#fdca26"
             ],
             [
              1,
              "#f0f921"
             ]
            ],
            "type": "histogram2dcontour"
           }
          ],
          "mesh3d": [
           {
            "colorbar": {
             "outlinewidth": 0,
             "ticks": ""
            },
            "type": "mesh3d"
           }
          ],
          "parcoords": [
           {
            "line": {
             "colorbar": {
              "outlinewidth": 0,
              "ticks": ""
             }
            },
            "type": "parcoords"
           }
          ],
          "pie": [
           {
            "automargin": true,
            "type": "pie"
           }
          ],
          "scatter": [
           {
            "marker": {
             "colorbar": {
              "outlinewidth": 0,
              "ticks": ""
             }
            },
            "type": "scatter"
           }
          ],
          "scatter3d": [
           {
            "line": {
             "colorbar": {
              "outlinewidth": 0,
              "ticks": ""
             }
            },
            "marker": {
             "colorbar": {
              "outlinewidth": 0,
              "ticks": ""
             }
            },
            "type": "scatter3d"
           }
          ],
          "scattercarpet": [
           {
            "marker": {
             "colorbar": {
              "outlinewidth": 0,
              "ticks": ""
             }
            },
            "type": "scattercarpet"
           }
          ],
          "scattergeo": [
           {
            "marker": {
             "colorbar": {
              "outlinewidth": 0,
              "ticks": ""
             }
            },
            "type": "scattergeo"
           }
          ],
          "scattergl": [
           {
            "marker": {
             "colorbar": {
              "outlinewidth": 0,
              "ticks": ""
             }
            },
            "type": "scattergl"
           }
          ],
          "scattermapbox": [
           {
            "marker": {
             "colorbar": {
              "outlinewidth": 0,
              "ticks": ""
             }
            },
            "type": "scattermapbox"
           }
          ],
          "scatterpolar": [
           {
            "marker": {
             "colorbar": {
              "outlinewidth": 0,
              "ticks": ""
             }
            },
            "type": "scatterpolar"
           }
          ],
          "scatterpolargl": [
           {
            "marker": {
             "colorbar": {
              "outlinewidth": 0,
              "ticks": ""
             }
            },
            "type": "scatterpolargl"
           }
          ],
          "scatterternary": [
           {
            "marker": {
             "colorbar": {
              "outlinewidth": 0,
              "ticks": ""
             }
            },
            "type": "scatterternary"
           }
          ],
          "surface": [
           {
            "colorbar": {
             "outlinewidth": 0,
             "ticks": ""
            },
            "colorscale": [
             [
              0,
              "#0d0887"
             ],
             [
              0.1111111111111111,
              "#46039f"
             ],
             [
              0.2222222222222222,
              "#7201a8"
             ],
             [
              0.3333333333333333,
              "#9c179e"
             ],
             [
              0.4444444444444444,
              "#bd3786"
             ],
             [
              0.5555555555555556,
              "#d8576b"
             ],
             [
              0.6666666666666666,
              "#ed7953"
             ],
             [
              0.7777777777777778,
              "#fb9f3a"
             ],
             [
              0.8888888888888888,
              "#fdca26"
             ],
             [
              1,
              "#f0f921"
             ]
            ],
            "type": "surface"
           }
          ],
          "table": [
           {
            "cells": {
             "fill": {
              "color": "#EBF0F8"
             },
             "line": {
              "color": "white"
             }
            },
            "header": {
             "fill": {
              "color": "#C8D4E3"
             },
             "line": {
              "color": "white"
             }
            },
            "type": "table"
           }
          ]
         },
         "layout": {
          "annotationdefaults": {
           "arrowcolor": "#2a3f5f",
           "arrowhead": 0,
           "arrowwidth": 1
          },
          "autotypenumbers": "strict",
          "coloraxis": {
           "colorbar": {
            "outlinewidth": 0,
            "ticks": ""
           }
          },
          "colorscale": {
           "diverging": [
            [
             0,
             "#8e0152"
            ],
            [
             0.1,
             "#c51b7d"
            ],
            [
             0.2,
             "#de77ae"
            ],
            [
             0.3,
             "#f1b6da"
            ],
            [
             0.4,
             "#fde0ef"
            ],
            [
             0.5,
             "#f7f7f7"
            ],
            [
             0.6,
             "#e6f5d0"
            ],
            [
             0.7,
             "#b8e186"
            ],
            [
             0.8,
             "#7fbc41"
            ],
            [
             0.9,
             "#4d9221"
            ],
            [
             1,
             "#276419"
            ]
           ],
           "sequential": [
            [
             0,
             "#0d0887"
            ],
            [
             0.1111111111111111,
             "#46039f"
            ],
            [
             0.2222222222222222,
             "#7201a8"
            ],
            [
             0.3333333333333333,
             "#9c179e"
            ],
            [
             0.4444444444444444,
             "#bd3786"
            ],
            [
             0.5555555555555556,
             "#d8576b"
            ],
            [
             0.6666666666666666,
             "#ed7953"
            ],
            [
             0.7777777777777778,
             "#fb9f3a"
            ],
            [
             0.8888888888888888,
             "#fdca26"
            ],
            [
             1,
             "#f0f921"
            ]
           ],
           "sequentialminus": [
            [
             0,
             "#0d0887"
            ],
            [
             0.1111111111111111,
             "#46039f"
            ],
            [
             0.2222222222222222,
             "#7201a8"
            ],
            [
             0.3333333333333333,
             "#9c179e"
            ],
            [
             0.4444444444444444,
             "#bd3786"
            ],
            [
             0.5555555555555556,
             "#d8576b"
            ],
            [
             0.6666666666666666,
             "#ed7953"
            ],
            [
             0.7777777777777778,
             "#fb9f3a"
            ],
            [
             0.8888888888888888,
             "#fdca26"
            ],
            [
             1,
             "#f0f921"
            ]
           ]
          },
          "colorway": [
           "#636efa",
           "#EF553B",
           "#00cc96",
           "#ab63fa",
           "#FFA15A",
           "#19d3f3",
           "#FF6692",
           "#B6E880",
           "#FF97FF",
           "#FECB52"
          ],
          "font": {
           "color": "#2a3f5f"
          },
          "geo": {
           "bgcolor": "white",
           "lakecolor": "white",
           "landcolor": "#E5ECF6",
           "showlakes": true,
           "showland": true,
           "subunitcolor": "white"
          },
          "hoverlabel": {
           "align": "left"
          },
          "hovermode": "closest",
          "mapbox": {
           "style": "light"
          },
          "paper_bgcolor": "white",
          "plot_bgcolor": "#E5ECF6",
          "polar": {
           "angularaxis": {
            "gridcolor": "white",
            "linecolor": "white",
            "ticks": ""
           },
           "bgcolor": "#E5ECF6",
           "radialaxis": {
            "gridcolor": "white",
            "linecolor": "white",
            "ticks": ""
           }
          },
          "scene": {
           "xaxis": {
            "backgroundcolor": "#E5ECF6",
            "gridcolor": "white",
            "gridwidth": 2,
            "linecolor": "white",
            "showbackground": true,
            "ticks": "",
            "zerolinecolor": "white"
           },
           "yaxis": {
            "backgroundcolor": "#E5ECF6",
            "gridcolor": "white",
            "gridwidth": 2,
            "linecolor": "white",
            "showbackground": true,
            "ticks": "",
            "zerolinecolor": "white"
           },
           "zaxis": {
            "backgroundcolor": "#E5ECF6",
            "gridcolor": "white",
            "gridwidth": 2,
            "linecolor": "white",
            "showbackground": true,
            "ticks": "",
            "zerolinecolor": "white"
           }
          },
          "shapedefaults": {
           "line": {
            "color": "#2a3f5f"
           }
          },
          "ternary": {
           "aaxis": {
            "gridcolor": "white",
            "linecolor": "white",
            "ticks": ""
           },
           "baxis": {
            "gridcolor": "white",
            "linecolor": "white",
            "ticks": ""
           },
           "bgcolor": "#E5ECF6",
           "caxis": {
            "gridcolor": "white",
            "linecolor": "white",
            "ticks": ""
           }
          },
          "title": {
           "x": 0.05
          },
          "xaxis": {
           "automargin": true,
           "gridcolor": "white",
           "linecolor": "white",
           "ticks": "",
           "title": {
            "standoff": 15
           },
           "zerolinecolor": "white",
           "zerolinewidth": 2
          },
          "yaxis": {
           "automargin": true,
           "gridcolor": "white",
           "linecolor": "white",
           "ticks": "",
           "title": {
            "standoff": 15
           },
           "zerolinecolor": "white",
           "zerolinewidth": 2
          }
         }
        }
       }
      },
      "text/html": [
       "<div>                            <div id=\"d559e22a-714c-4e6e-9aa6-cb79d13495e5\" class=\"plotly-graph-div\" style=\"height:525px; width:100%;\"></div>            <script type=\"text/javascript\">                require([\"plotly\"], function(Plotly) {                    window.PLOTLYENV=window.PLOTLYENV || {};                                    if (document.getElementById(\"d559e22a-714c-4e6e-9aa6-cb79d13495e5\")) {                    Plotly.newPlot(                        \"d559e22a-714c-4e6e-9aa6-cb79d13495e5\",                        [{\"hovertemplate\":\"median_household_income=%{x}<br>percent_elderly=%{y}<br>August=%{z}<extra></extra>\",\"legendgroup\":\"\",\"marker\":{\"color\":\"#636efa\",\"symbol\":\"circle\"},\"mode\":\"markers\",\"name\":\"\",\"scene\":\"scene\",\"showlegend\":false,\"x\":[96787.0,35607.0,129981.0,204949.0,184681.0,185268.0,250001.0,68220.0,139188.0,136208.0,110490.0,130675.0,136154.0,124647.0,130417.0,136360.0,101651.0,130968.0,138661.0,137347.0,137126.0,99067.0,64716.0,57010.0,131013.0,33801.0,45555.0,55721.0,53690.0,66902.0,63556.0,28408.0,97720.0,50686.0,95640.0,41363.0,53199.0,112658.0,153002.0,130556.0,123854.0,117926.0,170385.0,250001.0,70065.0,72394.0,70315.0,64394.0,77136.0,83309.0,108808.0,110478.0,102730.0,86895.0,96785.0,90306.0,32598.0,31351.0,31778.0,23337.0,29439.0,31645.0,32378.0,37886.0,31896.0,28831.0,60802.0,57266.0,60397.0,101935.0,74889.0,58405.0,40639.0,37777.0,67190.0,64643.0,93657.0,36038.0,47856.0,28419.0,53819.0,97845.0,89525.0,81462.0,81677.0,75772.0,86516.0,71865.0,169425.0,139697.0,57707.0,54984.0,62952.0,43065.0,42276.0,45946.0,79524.0,70776.0,90871.0,29385.0,48318.0,57639.0,144330.0,77343.0,122598.0,78249.0,41907.0,55119.0,65548.0,96435.0,56908.0,35776.0,65200.0,60896.0,76278.0,66332.0,57770.0,108525.0,74072.0,48278.0,84116.0,56308.0,74015.0,57375.0,100568.0,29571.0,45838.0,45527.0,64324.0,82858.0,70777.0,84356.0,86545.0,92212.0,111094.0,87135.0,70102.0,91795.0,64332.0,56904.0,61860.0,67582.0,61239.0,56835.0,75266.0,88117.0,59910.0,82326.0,89700.0,77044.0,104269.0,85235.0,91836.0,75599.0,75476.0,73471.0,79210.0,73856.0,79589.0,85190.0,77738.0,93397.0,70990.0,102770.0,81688.0,77466.0,82532.0,66270.0,62453.0,65845.0,69873.0,72962.0,52605.0,53077.0,52946.0,87755.0,116205.0],\"y\":[12.642851434508112,23.736266691768755,12.664849737520807,8.3987915407855,1.061865189289012,0.5214723926380368,5.604017975151996,14.860898965108897,16.623996778183702,16.435056143983434,14.543717982113398,17.447744006699935,16.456262254480407,14.77358633202298,22.21599751011516,10.141364474492931,17.244788119768895,24.611270205665868,28.22258820548553,22.700392106447257,20.35938992654083,20.373906816258327,10.77381410997252,11.053948832035594,19.84279221049998,15.296782234611417,12.308039747064138,11.031851360318512,15.876829001965495,12.592074751057154,12.844299239262634,13.478742668720775,13.495802486628175,18.251029879543204,16.47180334641603,10.291620524178663,17.959156581189017,19.882537196554424,20.073173143478687,9.28659286592866,28.427249789739275,18.81433966168331,8.087921468203158,4.436411436082813,16.16799557906371,10.751309775944708,10.84523634221764,14.378278309163838,17.336157140197354,18.426672557899774,13.864345977546003,17.290059167502854,16.403115411848006,13.985435286329029,17.035376509474098,18.17140696924548,12.848269024543228,9.99206765350435,8.867838393060946,8.963948475150104,8.635235732009926,9.336973220305264,8.991818315724636,8.657282898489981,10.249839846252405,11.736272907466008,16.44642822184374,13.051258599435318,20.218976023691557,20.61545580749653,16.094172990724715,14.381567117111071,11.187008635133392,11.513366675975528,18.337698139214336,16.245161290322578,28.276564645435617,12.299048375472502,16.118536904422495,8.169962863805164,24.8909593295426,22.95221285219324,7.480714263761255,13.124581261680596,10.412490471216016,13.128569716819108,12.94990921713126,13.98608939451124,5.092214787008324,11.98493780672243,17.957442420961733,14.506856540084389,7.913759244557724,9.709014943092958,13.245732774274488,10.707812834954105,17.667622279428976,15.603223170946606,8.839815992578496,14.340127233680455,13.178593689709418,16.942194485017485,10.979355668262018,11.09842698138231,10.875862556228068,12.28711790393013,11.827540655035758,12.712752462578733,10.282536047299663,11.130482157450285,15.911801242236026,28.83497488319038,14.88621772007419,11.713656936428183,19.155385386754183,19.836647987400653,16.36693122906822,9.241718700391576,7.761971246368063,11.51185523083864,18.82773425397247,24.336657089741426,14.767104158023091,8.122380911656546,12.358898043628182,30.96945137157107,21.695860633034705,19.45598466038988,14.273306311522871,23.50815095468368,18.336288013091504,28.170654245183144,20.865024008972696,24.617524339360223,23.807433421129645,19.94089109463001,17.46855705465356,17.775887731235382,17.891930943424427,9.294042940889556,16.80513472127195,13.580330995028264,14.396184258481624,13.334369656458884,19.197183424825703,19.70942642704676,16.534789870886723,12.481746214741372,19.190047644256214,10.898357533920494,19.85053485077908,14.544449416905785,16.307103563740732,24.356750505926566,15.44627383015598,13.033311611147315,13.275131595840287,13.24005734614772,15.280992597226568,12.535437735370031,12.863771624552378,14.54584273775392,17.621563050250575,20.15132034417961,21.27430666241632,20.61018658598084,18.21777905638665,15.74779876170623,13.192883641582496,15.288384725994568,12.841796875,13.220786072276445,13.283372775878693,14.177904795927482,16.156266789469647,18.3460344340954,22.42699177771477],\"z\":[2.544366046611076,2.5865267398102505,2.692047758504168,2.098765432098765,3.2448377581120944,5.065666041275797,2.045209903121636,2.6088537405690397,2.32508073196986,1.825340014316392,1.8158236057068744,1.8329938900203664,1.5411330583894074,2.328711805088168,1.450536698578474,2.158730158730159,2.2004889975550124,1.8229166666666667,1.7043202536662705,1.822444041137326,2.151483643925458,2.399715288016676,3.1057178116001647,2.895685544830794,1.8855065879145845,4.061296897410735,3.013421119270701,2.660064486411792,3.2007487131492747,2.637294446168166,2.5451916124367315,3.9986559139784954,2.0536100302637266,3.552769070010449,2.478492421138877,3.467643467643468,2.424084451974456,2.483343428225318,2.101730837160014,1.7684887459807077,1.6643550624133148,1.9188395152405435,2.503128911138924,3.333333333333333,2.556580050293378,3.5740072202166067,3.113156469951272,2.653444116858751,2.7402177815005384,3.006894260320625,2.9079159935379644,3.244052570287806,3.1274680145316696,2.550767706785537,3.105781057810578,2.732939997773572,2.7801592161665645,2.8495627395106613,2.909878519634617,4.198121892837415,3.274021352313168,3.0007629058235143,2.881693387823536,2.812969722997638,2.820733104238259,3.0967586456199543,2.611709369971531,2.345305062743401,2.2902412675549155,2.345058626465661,2.7325959661678594,2.3610828414410747,2.504886700933903,2.485809356038364,2.2469806197921542,3.046974185357596,1.9663452448477967,2.445557237684872,2.8226572894886903,2.976190476190476,2.187889837827464,2.2016592214422466,2.5342118601115056,2.706970448905933,2.041742286751361,1.853281853281853,3.0795390137918006,2.9523967490462764,4.119850187265917,2.408500590318772,2.1506982301545814,2.5426456388799488,2.935606060606061,3.411998862667045,3.247381144238517,2.6748614958448758,2.9656648957259537,2.5608320251177394,3.333333333333333,2.9902642559109878,2.8293241695303557,3.0140201346427027,2.285564166557205,3.252710592160134,3.108400550855793,2.892517878108656,2.720535068691251,2.1544245228455754,3.247116784234688,2.2909777987718467,3.3593281343731256,4.101960784313725,2.4563006969039187,2.55420054200542,2.978056426332288,2.823151125401929,3.578932116206622,2.9876123390818554,2.6523297491039424,2.7886160201973835,2.664032567049808,3.7224240509661457,2.340752110514198,3.0101159634838397,3.112494441974211,4.667795972143798,2.290876825038316,1.9695561236346733,2.026160553988202,2.516309412861137,2.077230359520639,2.975698462555794,2.1777620396600565,2.543899144529491,1.7744705208929592,2.1110831867303346,1.985645933014354,2.524735585124531,2.426090414954262,2.8130422869668466,2.164239482200647,2.293577981651376,1.9245212166729253,1.9301731478853248,2.6350866400082027,2.542600295183148,2.132625140833736,2.6534296028880866,2.525322603024837,2.460741460255788,2.499393351128367,2.914389799635701,2.646720368239356,3.640625,2.665876777251185,2.377622377622377,2.469135802469136,2.6366149266425687,2.5804289544235925,2.7001716872171064,2.365819209039548,2.6504583499402155,2.494331065759637,2.327514546965918,2.510460251046025,2.547065337763012,2.547914317925592,2.1251726702794604,3.2643957826439576,2.8938325194429373,2.44151859900294,2.7562111801242235,3.3437720981917365,3.260146373918829,2.8944150020383206,2.412038061518035,3.4057971014492754],\"type\":\"scatter3d\"}],                        {\"template\":{\"data\":{\"bar\":[{\"error_x\":{\"color\":\"#2a3f5f\"},\"error_y\":{\"color\":\"#2a3f5f\"},\"marker\":{\"line\":{\"color\":\"#E5ECF6\",\"width\":0.5},\"pattern\":{\"fillmode\":\"overlay\",\"size\":10,\"solidity\":0.2}},\"type\":\"bar\"}],\"barpolar\":[{\"marker\":{\"line\":{\"color\":\"#E5ECF6\",\"width\":0.5},\"pattern\":{\"fillmode\":\"overlay\",\"size\":10,\"solidity\":0.2}},\"type\":\"barpolar\"}],\"carpet\":[{\"aaxis\":{\"endlinecolor\":\"#2a3f5f\",\"gridcolor\":\"white\",\"linecolor\":\"white\",\"minorgridcolor\":\"white\",\"startlinecolor\":\"#2a3f5f\"},\"baxis\":{\"endlinecolor\":\"#2a3f5f\",\"gridcolor\":\"white\",\"linecolor\":\"white\",\"minorgridcolor\":\"white\",\"startlinecolor\":\"#2a3f5f\"},\"type\":\"carpet\"}],\"choropleth\":[{\"colorbar\":{\"outlinewidth\":0,\"ticks\":\"\"},\"type\":\"choropleth\"}],\"contour\":[{\"colorbar\":{\"outlinewidth\":0,\"ticks\":\"\"},\"colorscale\":[[0.0,\"#0d0887\"],[0.1111111111111111,\"#46039f\"],[0.2222222222222222,\"#7201a8\"],[0.3333333333333333,\"#9c179e\"],[0.4444444444444444,\"#bd3786\"],[0.5555555555555556,\"#d8576b\"],[0.6666666666666666,\"#ed7953\"],[0.7777777777777778,\"#fb9f3a\"],[0.8888888888888888,\"#fdca26\"],[1.0,\"#f0f921\"]],\"type\":\"contour\"}],\"contourcarpet\":[{\"colorbar\":{\"outlinewidth\":0,\"ticks\":\"\"},\"type\":\"contourcarpet\"}],\"heatmap\":[{\"colorbar\":{\"outlinewidth\":0,\"ticks\":\"\"},\"colorscale\":[[0.0,\"#0d0887\"],[0.1111111111111111,\"#46039f\"],[0.2222222222222222,\"#7201a8\"],[0.3333333333333333,\"#9c179e\"],[0.4444444444444444,\"#bd3786\"],[0.5555555555555556,\"#d8576b\"],[0.6666666666666666,\"#ed7953\"],[0.7777777777777778,\"#fb9f3a\"],[0.8888888888888888,\"#fdca26\"],[1.0,\"#f0f921\"]],\"type\":\"heatmap\"}],\"heatmapgl\":[{\"colorbar\":{\"outlinewidth\":0,\"ticks\":\"\"},\"colorscale\":[[0.0,\"#0d0887\"],[0.1111111111111111,\"#46039f\"],[0.2222222222222222,\"#7201a8\"],[0.3333333333333333,\"#9c179e\"],[0.4444444444444444,\"#bd3786\"],[0.5555555555555556,\"#d8576b\"],[0.6666666666666666,\"#ed7953\"],[0.7777777777777778,\"#fb9f3a\"],[0.8888888888888888,\"#fdca26\"],[1.0,\"#f0f921\"]],\"type\":\"heatmapgl\"}],\"histogram\":[{\"marker\":{\"pattern\":{\"fillmode\":\"overlay\",\"size\":10,\"solidity\":0.2}},\"type\":\"histogram\"}],\"histogram2d\":[{\"colorbar\":{\"outlinewidth\":0,\"ticks\":\"\"},\"colorscale\":[[0.0,\"#0d0887\"],[0.1111111111111111,\"#46039f\"],[0.2222222222222222,\"#7201a8\"],[0.3333333333333333,\"#9c179e\"],[0.4444444444444444,\"#bd3786\"],[0.5555555555555556,\"#d8576b\"],[0.6666666666666666,\"#ed7953\"],[0.7777777777777778,\"#fb9f3a\"],[0.8888888888888888,\"#fdca26\"],[1.0,\"#f0f921\"]],\"type\":\"histogram2d\"}],\"histogram2dcontour\":[{\"colorbar\":{\"outlinewidth\":0,\"ticks\":\"\"},\"colorscale\":[[0.0,\"#0d0887\"],[0.1111111111111111,\"#46039f\"],[0.2222222222222222,\"#7201a8\"],[0.3333333333333333,\"#9c179e\"],[0.4444444444444444,\"#bd3786\"],[0.5555555555555556,\"#d8576b\"],[0.6666666666666666,\"#ed7953\"],[0.7777777777777778,\"#fb9f3a\"],[0.8888888888888888,\"#fdca26\"],[1.0,\"#f0f921\"]],\"type\":\"histogram2dcontour\"}],\"mesh3d\":[{\"colorbar\":{\"outlinewidth\":0,\"ticks\":\"\"},\"type\":\"mesh3d\"}],\"parcoords\":[{\"line\":{\"colorbar\":{\"outlinewidth\":0,\"ticks\":\"\"}},\"type\":\"parcoords\"}],\"pie\":[{\"automargin\":true,\"type\":\"pie\"}],\"scatter\":[{\"marker\":{\"colorbar\":{\"outlinewidth\":0,\"ticks\":\"\"}},\"type\":\"scatter\"}],\"scatter3d\":[{\"line\":{\"colorbar\":{\"outlinewidth\":0,\"ticks\":\"\"}},\"marker\":{\"colorbar\":{\"outlinewidth\":0,\"ticks\":\"\"}},\"type\":\"scatter3d\"}],\"scattercarpet\":[{\"marker\":{\"colorbar\":{\"outlinewidth\":0,\"ticks\":\"\"}},\"type\":\"scattercarpet\"}],\"scattergeo\":[{\"marker\":{\"colorbar\":{\"outlinewidth\":0,\"ticks\":\"\"}},\"type\":\"scattergeo\"}],\"scattergl\":[{\"marker\":{\"colorbar\":{\"outlinewidth\":0,\"ticks\":\"\"}},\"type\":\"scattergl\"}],\"scattermapbox\":[{\"marker\":{\"colorbar\":{\"outlinewidth\":0,\"ticks\":\"\"}},\"type\":\"scattermapbox\"}],\"scatterpolar\":[{\"marker\":{\"colorbar\":{\"outlinewidth\":0,\"ticks\":\"\"}},\"type\":\"scatterpolar\"}],\"scatterpolargl\":[{\"marker\":{\"colorbar\":{\"outlinewidth\":0,\"ticks\":\"\"}},\"type\":\"scatterpolargl\"}],\"scatterternary\":[{\"marker\":{\"colorbar\":{\"outlinewidth\":0,\"ticks\":\"\"}},\"type\":\"scatterternary\"}],\"surface\":[{\"colorbar\":{\"outlinewidth\":0,\"ticks\":\"\"},\"colorscale\":[[0.0,\"#0d0887\"],[0.1111111111111111,\"#46039f\"],[0.2222222222222222,\"#7201a8\"],[0.3333333333333333,\"#9c179e\"],[0.4444444444444444,\"#bd3786\"],[0.5555555555555556,\"#d8576b\"],[0.6666666666666666,\"#ed7953\"],[0.7777777777777778,\"#fb9f3a\"],[0.8888888888888888,\"#fdca26\"],[1.0,\"#f0f921\"]],\"type\":\"surface\"}],\"table\":[{\"cells\":{\"fill\":{\"color\":\"#EBF0F8\"},\"line\":{\"color\":\"white\"}},\"header\":{\"fill\":{\"color\":\"#C8D4E3\"},\"line\":{\"color\":\"white\"}},\"type\":\"table\"}]},\"layout\":{\"annotationdefaults\":{\"arrowcolor\":\"#2a3f5f\",\"arrowhead\":0,\"arrowwidth\":1},\"autotypenumbers\":\"strict\",\"coloraxis\":{\"colorbar\":{\"outlinewidth\":0,\"ticks\":\"\"}},\"colorscale\":{\"diverging\":[[0,\"#8e0152\"],[0.1,\"#c51b7d\"],[0.2,\"#de77ae\"],[0.3,\"#f1b6da\"],[0.4,\"#fde0ef\"],[0.5,\"#f7f7f7\"],[0.6,\"#e6f5d0\"],[0.7,\"#b8e186\"],[0.8,\"#7fbc41\"],[0.9,\"#4d9221\"],[1,\"#276419\"]],\"sequential\":[[0.0,\"#0d0887\"],[0.1111111111111111,\"#46039f\"],[0.2222222222222222,\"#7201a8\"],[0.3333333333333333,\"#9c179e\"],[0.4444444444444444,\"#bd3786\"],[0.5555555555555556,\"#d8576b\"],[0.6666666666666666,\"#ed7953\"],[0.7777777777777778,\"#fb9f3a\"],[0.8888888888888888,\"#fdca26\"],[1.0,\"#f0f921\"]],\"sequentialminus\":[[0.0,\"#0d0887\"],[0.1111111111111111,\"#46039f\"],[0.2222222222222222,\"#7201a8\"],[0.3333333333333333,\"#9c179e\"],[0.4444444444444444,\"#bd3786\"],[0.5555555555555556,\"#d8576b\"],[0.6666666666666666,\"#ed7953\"],[0.7777777777777778,\"#fb9f3a\"],[0.8888888888888888,\"#fdca26\"],[1.0,\"#f0f921\"]]},\"colorway\":[\"#636efa\",\"#EF553B\",\"#00cc96\",\"#ab63fa\",\"#FFA15A\",\"#19d3f3\",\"#FF6692\",\"#B6E880\",\"#FF97FF\",\"#FECB52\"],\"font\":{\"color\":\"#2a3f5f\"},\"geo\":{\"bgcolor\":\"white\",\"lakecolor\":\"white\",\"landcolor\":\"#E5ECF6\",\"showlakes\":true,\"showland\":true,\"subunitcolor\":\"white\"},\"hoverlabel\":{\"align\":\"left\"},\"hovermode\":\"closest\",\"mapbox\":{\"style\":\"light\"},\"paper_bgcolor\":\"white\",\"plot_bgcolor\":\"#E5ECF6\",\"polar\":{\"angularaxis\":{\"gridcolor\":\"white\",\"linecolor\":\"white\",\"ticks\":\"\"},\"bgcolor\":\"#E5ECF6\",\"radialaxis\":{\"gridcolor\":\"white\",\"linecolor\":\"white\",\"ticks\":\"\"}},\"scene\":{\"xaxis\":{\"backgroundcolor\":\"#E5ECF6\",\"gridcolor\":\"white\",\"gridwidth\":2,\"linecolor\":\"white\",\"showbackground\":true,\"ticks\":\"\",\"zerolinecolor\":\"white\"},\"yaxis\":{\"backgroundcolor\":\"#E5ECF6\",\"gridcolor\":\"white\",\"gridwidth\":2,\"linecolor\":\"white\",\"showbackground\":true,\"ticks\":\"\",\"zerolinecolor\":\"white\"},\"zaxis\":{\"backgroundcolor\":\"#E5ECF6\",\"gridcolor\":\"white\",\"gridwidth\":2,\"linecolor\":\"white\",\"showbackground\":true,\"ticks\":\"\",\"zerolinecolor\":\"white\"}},\"shapedefaults\":{\"line\":{\"color\":\"#2a3f5f\"}},\"ternary\":{\"aaxis\":{\"gridcolor\":\"white\",\"linecolor\":\"white\",\"ticks\":\"\"},\"baxis\":{\"gridcolor\":\"white\",\"linecolor\":\"white\",\"ticks\":\"\"},\"bgcolor\":\"#E5ECF6\",\"caxis\":{\"gridcolor\":\"white\",\"linecolor\":\"white\",\"ticks\":\"\"}},\"title\":{\"x\":0.05},\"xaxis\":{\"automargin\":true,\"gridcolor\":\"white\",\"linecolor\":\"white\",\"ticks\":\"\",\"title\":{\"standoff\":15},\"zerolinecolor\":\"white\",\"zerolinewidth\":2},\"yaxis\":{\"automargin\":true,\"gridcolor\":\"white\",\"linecolor\":\"white\",\"ticks\":\"\",\"title\":{\"standoff\":15},\"zerolinecolor\":\"white\",\"zerolinewidth\":2}}},\"scene\":{\"domain\":{\"x\":[0.0,1.0],\"y\":[0.0,1.0]},\"xaxis\":{\"title\":{\"text\":\"median_household_income\"}},\"yaxis\":{\"title\":{\"text\":\"percent_elderly\"}},\"zaxis\":{\"title\":{\"text\":\"August\"}}},\"legend\":{\"tracegroupgap\":0},\"margin\":{\"t\":60}},                        {\"responsive\": true}                    ).then(function(){\n",
       "                            \n",
       "var gd = document.getElementById('d559e22a-714c-4e6e-9aa6-cb79d13495e5');\n",
       "var x = new MutationObserver(function (mutations, observer) {{\n",
       "        var display = window.getComputedStyle(gd).display;\n",
       "        if (!display || display === 'none') {{\n",
       "            console.log([gd, 'removed!']);\n",
       "            Plotly.purge(gd);\n",
       "            observer.disconnect();\n",
       "        }}\n",
       "}});\n",
       "\n",
       "// Listen for the removal of the full notebook cells\n",
       "var notebookContainer = gd.closest('#notebook-container');\n",
       "if (notebookContainer) {{\n",
       "    x.observe(notebookContainer, {childList: true});\n",
       "}}\n",
       "\n",
       "// Listen for the clearing of the current output cell\n",
       "var outputEl = gd.closest('.output');\n",
       "if (outputEl) {{\n",
       "    x.observe(outputEl, {childList: true});\n",
       "}}\n",
       "\n",
       "                        })                };                });            </script>        </div>"
      ]
     },
     "metadata": {},
     "output_type": "display_data"
    }
   ],
   "source": [
    "import plotly.express as px\n",
    "\n",
    "df = pd.read_csv('merged_income_age.csv').query(\"zip!=11005\")\n",
    "\n",
    "fig = px.scatter_3d(df, \n",
    "                    x='median_household_income', \n",
    "                    y='percent_elderly', \n",
    "                    z='August')\n",
    "fig.show()"
   ]
  },
  {
   "cell_type": "code",
   "execution_count": null,
   "metadata": {},
   "outputs": [
    {
     "name": "stdout",
     "output_type": "stream",
     "text": [
      "\n",
      "Call:\n",
      "lm(formula = August ~ median_household_income + percent_elderly, \n",
      "    data = df %>% filter(median_household_income < 150000) %>% \n",
      "        filter(zip != 11005))\n",
      "\n",
      "Residuals:\n",
      "     Min       1Q   Median       3Q      Max \n",
      "-0.94084 -0.29378 -0.04069  0.25253  1.65498 \n",
      "\n",
      "Coefficients:\n",
      "                          Estimate Std. Error t value Pr(>|t|)    \n",
      "(Intercept)              3.395e+00  1.364e-01  24.895  < 2e-16 ***\n",
      "median_household_income -9.068e-06  1.275e-06  -7.110 3.28e-11 ***\n",
      "percent_elderly         -3.671e-03  7.706e-03  -0.476    0.634    \n",
      "---\n",
      "Signif. codes:  0 ‘***’ 0.001 ‘**’ 0.01 ‘*’ 0.05 ‘.’ 0.1 ‘ ’ 1\n",
      "\n",
      "Residual standard error: 0.4626 on 166 degrees of freedom\n",
      "Multiple R-squared:  0.2559,\tAdjusted R-squared:  0.247 \n",
      "F-statistic: 28.55 on 2 and 166 DF,  p-value: 2.206e-11\n",
      "\n"
     ]
    }
   ],
   "source": [
    "%%R\n",
    "# What's up with the outliers (fidi)?\n",
    "\n",
    "summary(lm(August ~ median_household_income + percent_elderly, df %>% \n",
    "           filter(median_household_income < 150000) %>%\n",
    "           filter(zip!= 11005)))\n"
   ]
  }
 ],
 "metadata": {
  "kernelspec": {
   "display_name": "Python 3.11.0rc2 64-bit ('3.11.0rc2')",
   "language": "python",
   "name": "python3"
  },
  "language_info": {
   "codemirror_mode": {
    "name": "ipython",
    "version": 3
   },
   "file_extension": ".py",
   "mimetype": "text/x-python",
   "name": "python",
   "nbconvert_exporter": "python",
   "pygments_lexer": "ipython3",
   "version": "3.11.0rc2"
  },
  "vscode": {
   "interpreter": {
    "hash": "44ff9170429f4d0c3381acc6be400e0ddcabfb86626b29013cb945a2d1181b9c"
   }
  }
 },
 "nbformat": 4,
 "nbformat_minor": 2
}
