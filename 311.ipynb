{
 "cells": [
  {
   "cell_type": "code",
   "execution_count": 1,
   "id": "60798df8",
   "metadata": {},
   "outputs": [],
   "source": [
    "import pandas as pd"
   ]
  },
  {
   "cell_type": "code",
   "execution_count": 2,
   "id": "a8af1729",
   "metadata": {},
   "outputs": [],
   "source": [
    "pd.options.display.max_columns = None"
   ]
  },
  {
   "cell_type": "markdown",
   "id": "7608d8d5",
   "metadata": {},
   "source": [
    "# 311 Power Outage Data"
   ]
  },
  {
   "cell_type": "code",
   "execution_count": 90,
   "id": "dcb97638",
   "metadata": {},
   "outputs": [],
   "source": [
    "df = pd.read_csv('311_power_outage_complaints_nov_13.csv', low_memory=False)"
   ]
  },
  {
   "cell_type": "code",
   "execution_count": 94,
   "id": "8fb969ad",
   "metadata": {},
   "outputs": [],
   "source": [
    "# convert time value to datetime\n",
    "\n",
    "df['Created Date'] = pd.to_datetime(df['Created Date'])\n",
    "df['Closed Date'] = pd.to_datetime(df['Closed Date'])"
   ]
  },
  {
   "cell_type": "code",
   "execution_count": 97,
   "id": "b94d18c3",
   "metadata": {},
   "outputs": [
    {
     "data": {
      "text/html": [
       "<div>\n",
       "<style scoped>\n",
       "    .dataframe tbody tr th:only-of-type {\n",
       "        vertical-align: middle;\n",
       "    }\n",
       "\n",
       "    .dataframe tbody tr th {\n",
       "        vertical-align: top;\n",
       "    }\n",
       "\n",
       "    .dataframe thead th {\n",
       "        text-align: right;\n",
       "    }\n",
       "</style>\n",
       "<table border=\"1\" class=\"dataframe\">\n",
       "  <thead>\n",
       "    <tr style=\"text-align: right;\">\n",
       "      <th></th>\n",
       "      <th>zipcode</th>\n",
       "      <th>outage_count</th>\n",
       "    </tr>\n",
       "  </thead>\n",
       "  <tbody>\n",
       "    <tr>\n",
       "      <th>0</th>\n",
       "      <td>11226.0</td>\n",
       "      <td>1547</td>\n",
       "    </tr>\n",
       "    <tr>\n",
       "      <th>1</th>\n",
       "      <td>10467.0</td>\n",
       "      <td>1240</td>\n",
       "    </tr>\n",
       "    <tr>\n",
       "      <th>2</th>\n",
       "      <td>11207.0</td>\n",
       "      <td>1224</td>\n",
       "    </tr>\n",
       "    <tr>\n",
       "      <th>3</th>\n",
       "      <td>10457.0</td>\n",
       "      <td>1142</td>\n",
       "    </tr>\n",
       "    <tr>\n",
       "      <th>4</th>\n",
       "      <td>11208.0</td>\n",
       "      <td>1102</td>\n",
       "    </tr>\n",
       "    <tr>\n",
       "      <th>...</th>\n",
       "      <td>...</td>\n",
       "      <td>...</td>\n",
       "    </tr>\n",
       "    <tr>\n",
       "      <th>174</th>\n",
       "      <td>10004.0</td>\n",
       "      <td>2</td>\n",
       "    </tr>\n",
       "    <tr>\n",
       "      <th>175</th>\n",
       "      <td>11005.0</td>\n",
       "      <td>2</td>\n",
       "    </tr>\n",
       "    <tr>\n",
       "      <th>176</th>\n",
       "      <td>10118.0</td>\n",
       "      <td>2</td>\n",
       "    </tr>\n",
       "    <tr>\n",
       "      <th>177</th>\n",
       "      <td>10069.0</td>\n",
       "      <td>1</td>\n",
       "    </tr>\n",
       "    <tr>\n",
       "      <th>178</th>\n",
       "      <td>11241.0</td>\n",
       "      <td>1</td>\n",
       "    </tr>\n",
       "  </tbody>\n",
       "</table>\n",
       "<p>179 rows × 2 columns</p>\n",
       "</div>"
      ],
      "text/plain": [
       "     zipcode  outage_count\n",
       "0    11226.0          1547\n",
       "1    10467.0          1240\n",
       "2    11207.0          1224\n",
       "3    10457.0          1142\n",
       "4    11208.0          1102\n",
       "..       ...           ...\n",
       "174  10004.0             2\n",
       "175  11005.0             2\n",
       "176  10118.0             2\n",
       "177  10069.0             1\n",
       "178  11241.0             1\n",
       "\n",
       "[179 rows x 2 columns]"
      ]
     },
     "execution_count": 97,
     "metadata": {},
     "output_type": "execute_result"
    }
   ],
   "source": [
    "df_count_per_zip = df['Incident Zip'].value_counts().to_frame().reset_index()\n",
    "\n",
    "df_count_per_zip.rename(columns = {'index':'zipcode', 'Incident Zip':'outage_count'}, inplace = True)\n",
    "\n",
    "df_count_per_zip"
   ]
  },
  {
   "cell_type": "code",
   "execution_count": 104,
   "id": "2ba754f7",
   "metadata": {},
   "outputs": [],
   "source": [
    "# Convert zip code count into percentage (weight by population)\n",
    "\n",
    "df_nyc_zip = pd.read_csv('df_nyc_zip.csv')\n",
    "df_count_percent = pd.merge(df_count_per_zip, df_nyc_zip, how=\"inner\", left_on=\"zipcode\", right_on=\"Zipcode\")\n",
    "df_count_percent[\"outage_pct\"] = df_count_percent.outage_count / df_count_percent.Estimate * 100\n",
    "\n",
    "# df_count_percent.to_csv(\"311_complaints_by_zip_pop_adjusted.csv\")"
   ]
  },
  {
   "cell_type": "code",
   "execution_count": 105,
   "id": "9351c4be",
   "metadata": {
    "scrolled": false
   },
   "outputs": [
    {
     "name": "stderr",
     "output_type": "stream",
     "text": [
      "/var/folders/_c/dcjy1m9109bd_sq8l8j8zsdr0000gn/T/ipykernel_61450/304471784.py:12: FutureWarning: The default value of numeric_only in DataFrameGroupBy.mean is deprecated. In a future version, numeric_only will default to False. Either specify numeric_only or select only columns which should be valid for the function.\n",
      "  df_zip = df.groupby(by=['Incident Zip']).mean().sort_values(by=['Days to Resolve'],\n",
      "/var/folders/_c/dcjy1m9109bd_sq8l8j8zsdr0000gn/T/ipykernel_61450/304471784.py:15: FutureWarning: The default value of numeric_only in DataFrameGroupBy.median is deprecated. In a future version, numeric_only will default to False. Either specify numeric_only or select only columns which should be valid for the function.\n",
      "  df_median = df.groupby(by=['Incident Zip']).median().sort_values(by=['Days to Resolve'],\n"
     ]
    },
    {
     "data": {
      "image/png": "[encoded data removed]",
      "text/plain": [
       "<Figure size 640x480 with 1 Axes>"
      ]
     },
     "metadata": {},
     "output_type": "display_data"
    }
   ],
   "source": [
    "# Explore distribution of time it took to address outage report.\n",
    "\n",
    "df['Created Datetime'] = pd.to_datetime(df['Created Date'])\n",
    "df['Closed Datetime'] = pd.to_datetime(df['Closed Date'])\n",
    "\n",
    "df['Days to Resolve'] = (df['Closed Datetime'] - df['Created Datetime']).dt.days\n",
    "\n",
    "df[df['Days to Resolve'] < 100]['Days to Resolve'].hist(bins=100)\n",
    "\n",
    "df['Incident Zip'] = df['Incident Zip'].astype(str).str.replace('.0', '', regex=False)\n",
    "\n",
    "df_zip = df.groupby(by=['Incident Zip']).mean().sort_values(by=['Days to Resolve'],\n",
    "                                     ascending=False)[['Days to Resolve']]\n",
    "\n",
    "df_median = df.groupby(by=['Incident Zip']).median().sort_values(by=['Days to Resolve'],\n",
    "                                     ascending=False)[['Days to Resolve']]\n",
    "\n",
    "df_count_days_by_zip = df_zip.merge(df_zip_count, on='Incident Zip')\n",
    "\n",
    "df_count_days_by_zip = df_count_days_by_zip.rename(columns={'Unique Key': 'Count'})\n",
    "\n",
    "df_count_median_days = df_median.merge(df_zip_count, on='Incident Zip')\n",
    "\n",
    "df_count_median_days = df_count_median_days.rename(columns={'Unique Key': 'Count'})\n",
    "\n",
    "# df_count_median_days.to_csv('count_median_days.csv')\n",
    "\n",
    "df_count_median_days = df_count_median_days.reset_index()\n",
    "\n",
    "df_count_median_days = df_count_median_days[df_count_median_days['Incident Zip'] != 'nan']\n",
    "\n",
    "df_count_median_days['Incident Zip'] = df_count_median_days['Incident Zip'].astype(int)\n",
    "\n",
    "# df_count_days_by_zip\n",
    "\n",
    "# df_count_days_by_zip.to_csv('count_days_by_zip.csv')"
   ]
  }
 ],
 "metadata": {
  "kernelspec": {
   "display_name": "Python 3 (ipykernel)",
   "language": "python",
   "name": "python3"
  },
  "language_info": {
   "codemirror_mode": {
    "name": "ipython",
    "version": 3
   },
   "file_extension": ".py",
   "mimetype": "text/x-python",
   "name": "python",
   "nbconvert_exporter": "python",
   "pygments_lexer": "ipython3",
   "version": "3.11.0rc2"
  }
 },
 "nbformat": 4,
 "nbformat_minor": 5
}
